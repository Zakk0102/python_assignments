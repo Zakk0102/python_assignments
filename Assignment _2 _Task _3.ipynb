{
 "cells": [
  {
   "cell_type": "markdown",
   "id": "90f47f9b-0337-400d-8dac-9f89fafe5664",
   "metadata": {},
   "source": [
    "## Assignment 2 Task 3"
   ]
  },
  {
   "cell_type": "code",
   "execution_count": 1,
   "id": "3f44a89b-c51b-40d8-99a8-fd265250723a",
   "metadata": {},
   "outputs": [
    {
     "name": "stdin",
     "output_type": "stream",
     "text": [
      "Ente the number: 65\n"
     ]
    },
    {
     "name": "stdout",
     "output_type": "stream",
     "text": [
      "The factors of 65 are: [1, 5, 13, 65]\n"
     ]
    }
   ],
   "source": [
    "# 1. Program to find the factor of the given number.\n",
    "num = int(input(\"Ente the number:\"))\n",
    "fac = []\n",
    "for i in range (1, num +1):\n",
    "    if num % i == 0:\n",
    "        fac.append(i)\n",
    "print(f\"The factors of {num} are: {fac}\")"
   ]
  },
  {
   "cell_type": "code",
   "execution_count": 2,
   "id": "b9ed876c-53bd-4f81-9aea-5bd015fd2d26",
   "metadata": {},
   "outputs": [
    {
     "name": "stdin",
     "output_type": "stream",
     "text": [
      "Ente the number: 65\n"
     ]
    },
    {
     "name": "stdout",
     "output_type": "stream",
     "text": [
      "Not a Prime Number\n"
     ]
    }
   ],
   "source": [
    "# 2. Program to find whether the given number is prime or not. \n",
    "num = int(input(\"Ente the number:\"))\n",
    "is_prime = True\n",
    "for i in range (2, num):\n",
    "    if num % i == 0:\n",
    "        is_prime = False\n",
    "if is_prime == True:\n",
    "    print(\"Prime Number\")\n",
    "else:\n",
    "    print(\"Not a Prime Number\")"
   ]
  },
  {
   "cell_type": "code",
   "execution_count": 5,
   "id": "6d45395b-c53c-4252-9907-3abc7bae99a0",
   "metadata": {},
   "outputs": [
    {
     "name": "stdin",
     "output_type": "stream",
     "text": [
      "Ente the number: 153\n"
     ]
    },
    {
     "name": "stdout",
     "output_type": "stream",
     "text": [
      "Armstrong Number\n"
     ]
    }
   ],
   "source": [
    "num = int(input(\"Ente the number:\"))\n",
    "s = str(num)\n",
    "l= len(s)\n",
    "num_new = sum(int(i)**int(l) for i in s)\n",
    "if num == num_new:\n",
    "    print(\"Armstrong Number\")\n",
    "else:\n",
    "    print(\"Not Armstrong Number\")"
   ]
  },
  {
   "cell_type": "code",
   "execution_count": 10,
   "id": "ab851e82-44a0-4ee6-96d0-460609893b0a",
   "metadata": {},
   "outputs": [
    {
     "name": "stdout",
     "output_type": "stream",
     "text": [
      "Armstrong number between 100 to 999 is [153, 370, 371, 407]\n"
     ]
    }
   ],
   "source": [
    "# 4. Program to print the Armstrong numbers between 100 to 999. \n",
    "arm = []\n",
    "for num in range(100,1000):\n",
    "    n = str(num)\n",
    "    l = len(n)\n",
    "    d = sum(int(i) **int(l) for i in n)\n",
    "    if d == num:\n",
    "       arm.append(d)\n",
    "print(f\"Armstrong number between 100 to 999 is {arm}\")"
   ]
  },
  {
   "cell_type": "code",
   "execution_count": 11,
   "id": "fb1de4fc-98a2-4a8e-8ae2-3d113e727810",
   "metadata": {},
   "outputs": [
    {
     "name": "stdout",
     "output_type": "stream",
     "text": [
      "Even Count: 3\n",
      "Odd Count: 4\n"
     ]
    }
   ],
   "source": [
    "# 5. Write a program to count and print the number of odd and even numbers.\n",
    "num = [15,56,78,101,569,12,45]\n",
    "even = 0\n",
    "odd = 0\n",
    "for i in num:\n",
    "    if i % 2 ==0:\n",
    "        even +=1\n",
    "    else:\n",
    "        odd +=1\n",
    "print(f\"Even Count: {even}\")\n",
    "print(f\"Odd Count: {odd}\")"
   ]
  },
  {
   "cell_type": "code",
   "execution_count": 13,
   "id": "448b5dcb-fc0a-4a91-9f38-0457b6ce9c1b",
   "metadata": {},
   "outputs": [
    {
     "name": "stdin",
     "output_type": "stream",
     "text": [
      "Enter a number:  56987\n"
     ]
    },
    {
     "name": "stdout",
     "output_type": "stream",
     "text": [
      "The reverse of the number is: 78965\n"
     ]
    }
   ],
   "source": [
    "# 6. Write a program to find the reverse of n digit number using While loop \n",
    "num = int(input(\"Enter a number: \"))\n",
    "\n",
    "reverse_number = 0\n",
    "\n",
    "while num > 0:\n",
    "    remainder = num % 10  \n",
    "    reverse_number = reverse_number * 10 + remainder  \n",
    "    num = num// 10 \n",
    "\n",
    "print(f\"The reverse of the number is: {reverse_number}\")"
   ]
  },
  {
   "cell_type": "code",
   "execution_count": 17,
   "id": "d348953d-7f96-43db-8878-48f1afcc6d5c",
   "metadata": {},
   "outputs": [
    {
     "name": "stdin",
     "output_type": "stream",
     "text": [
      "Enter a number:  15\n"
     ]
    },
    {
     "name": "stdout",
     "output_type": "stream",
     "text": [
      "Binary Number:1111\n"
     ]
    }
   ],
   "source": [
    "# 7. Write a program to find the binary number from given decimal number.\n",
    "number = int(input(\"Enter a number: \"))\n",
    "bina = bin(number)[2:]\n",
    "print(f\"Binary Number:{bina}\")"
   ]
  },
  {
   "cell_type": "code",
   "execution_count": 20,
   "id": "c9655578-d9b6-49d3-80f8-4d6226e99468",
   "metadata": {},
   "outputs": [
    {
     "name": "stdin",
     "output_type": "stream",
     "text": [
      "Enter the binary number:  101\n"
     ]
    },
    {
     "name": "stdout",
     "output_type": "stream",
     "text": [
      "Decimal Number:5\n"
     ]
    }
   ],
   "source": [
    "# 8. Write a program to find the decimal number from given Binary number.\n",
    "number = input(\"Enter the binary number: \")\n",
    "dec = int(number,2)\n",
    "print(f\"Decimal Number:{dec}\")"
   ]
  },
  {
   "cell_type": "code",
   "execution_count": 27,
   "id": "229f8f5c-f72b-478e-a217-45cc35e679a0",
   "metadata": {},
   "outputs": [
    {
     "name": "stdin",
     "output_type": "stream",
     "text": [
      "Enter a number:  10\n"
     ]
    },
    {
     "name": "stdout",
     "output_type": "stream",
     "text": [
      "Factorial of 10 is 3628800\n"
     ]
    }
   ],
   "source": [
    "# 9. Write a program to find the factorial of the given number.\n",
    "number = int(input(\"Enter a number: \"))\n",
    "res = 1\n",
    "for i in range(1, number +1):\n",
    "    res*=i\n",
    "print(f\"Factorial of {number} is {res}\")"
   ]
  },
  {
   "cell_type": "code",
   "execution_count": 31,
   "id": "6c9d0ff3-ac97-460a-8650-8cccbf69ea61",
   "metadata": {},
   "outputs": [
    {
     "name": "stdin",
     "output_type": "stream",
     "text": [
      "Enter a number:  5\n"
     ]
    },
    {
     "name": "stdout",
     "output_type": "stream",
     "text": [
      "Fibonacci Sequence is [0, 1, 1, 2, 3]\n"
     ]
    }
   ],
   "source": [
    "# 10. Write a program to find the Fibonacci Series of the given number.\n",
    "number = int(input(\"Enter a number: \"))\n",
    "seq = []\n",
    "a, b = 0, 1\n",
    "while len(seq) < number:\n",
    "    seq.append(a)\n",
    "    a, b = b, a + b\n",
    "print(f\"Fibonacci Sequence is {seq}\")"
   ]
  },
  {
   "cell_type": "code",
   "execution_count": 44,
   "id": "ce4bf141-ee66-4df3-b1bc-9ccc7a77ee43",
   "metadata": {},
   "outputs": [
    {
     "name": "stdin",
     "output_type": "stream",
     "text": [
      "Enter a number:  496\n"
     ]
    },
    {
     "name": "stdout",
     "output_type": "stream",
     "text": [
      "Perfect Number\n"
     ]
    }
   ],
   "source": [
    "# 11. Write a program to find the given number is the perfect number\n",
    "num = int(input(\"Enter a number: \"))\n",
    "s=0\n",
    "for i in range(1, num):\n",
    "    if num% i ==0:\n",
    "        s +=i\n",
    "if s == num:\n",
    "    print(\"Perfect Number\")\n",
    "else:\n",
    "    print(\"Given Number is not a perfect number\")\n",
    "    \n"
   ]
  },
  {
   "cell_type": "code",
   "execution_count": 43,
   "id": "1c0cce58-f8d0-4317-a282-2a909a79a9ad",
   "metadata": {},
   "outputs": [
    {
     "name": "stdout",
     "output_type": "stream",
     "text": [
      "Perfect numbers up to 1000 are: [6, 28, 496]\n"
     ]
    }
   ],
   "source": [
    "# 12. Write a program to print the perfect number between 1-1000\n",
    "\n",
    "perfect_numbers = []  \n",
    "\n",
    "for num in range(1, 1001):\n",
    "    s = 0 \n",
    "    for i in range(1, num):\n",
    "        if num % i == 0:\n",
    "            s += i\n",
    "    if s == num:\n",
    "        perfect_numbers.append(num)\n",
    "print(f\"Perfect numbers up to 1000 are: {perfect_numbers}\")\n"
   ]
  },
  {
   "cell_type": "code",
   "execution_count": 79,
   "id": "d96e3aac-3034-46ac-810f-f36169561ae2",
   "metadata": {},
   "outputs": [
    {
     "name": "stdin",
     "output_type": "stream",
     "text": [
      "Enter a number:  145\n"
     ]
    },
    {
     "name": "stdout",
     "output_type": "stream",
     "text": [
      "145 is a strong number.\n"
     ]
    }
   ],
   "source": [
    "# 13. Write a program to find the given number is strong number \n",
    "number = int(input(\"Enter a number: \"))\n",
    "\n",
    "s = 0\n",
    "\n",
    "n = str(number)\n",
    "\n",
    "for digit in n:\n",
    "    z = int(digit)  \n",
    "    res = 1 \n",
    "    for x in range(1, z + 1):\n",
    "        res *= x  \n",
    "    s += res  \n",
    "if s == number:\n",
    "    print(f\"{number} is a strong number.\")\n",
    "else:\n",
    "    print(f\"{number} is not a strong number.\")\n"
   ]
  },
  {
   "cell_type": "code",
   "execution_count": 80,
   "id": "d9e7a78d-8dcf-4b28-9bd2-f564d18a3859",
   "metadata": {},
   "outputs": [
    {
     "name": "stdin",
     "output_type": "stream",
     "text": [
      "Enter the first number:  5\n",
      "Enter the second number:  6\n"
     ]
    },
    {
     "name": "stdout",
     "output_type": "stream",
     "text": [
      "Value of 5 raised to the power of 6 is 15625\n",
      "Value of 6 raised to the power of 5 is 7776\n"
     ]
    }
   ],
   "source": [
    "# 14. Two numbers are entered through the keyboard. Write a program to find the value of one number raised to the power of another.\n",
    "num1= int(input(\"Enter the first number: \"))\n",
    "num2= int(input(\"Enter the second number: \"))\n",
    "p1 = num1 **num2\n",
    "p2 = num2 ** num1\n",
    "print(f\"Value of {num1} raised to the power of {num2} is {p1}\")\n",
    "print(f\"Value of {num2} raised to the power of {num1} is {p2}\")"
   ]
  }
 ],
 "metadata": {
  "kernelspec": {
   "display_name": "Python 3 (ipykernel)",
   "language": "python",
   "name": "python3"
  },
  "language_info": {
   "codemirror_mode": {
    "name": "ipython",
    "version": 3
   },
   "file_extension": ".py",
   "mimetype": "text/x-python",
   "name": "python",
   "nbconvert_exporter": "python",
   "pygments_lexer": "ipython3",
   "version": "3.11.5"
  }
 },
 "nbformat": 4,
 "nbformat_minor": 5
}

{
 "cells": [
  {
   "cell_type": "markdown",
   "id": "f4dc7aca-8920-4c8c-9170-0c268d6c53cf",
   "metadata": {},
   "source": [
    "### Assignment 2 Task 2"
   ]
  },
  {
   "cell_type": "code",
   "execution_count": 2,
   "id": "d9ebace2-496f-4787-aec3-61418281fde1",
   "metadata": {},
   "outputs": [
    {
     "name": "stdin",
     "output_type": "stream",
     "text": [
      "Enter the quantity of the item 12\n",
      "Enter the price of the item: ₹  10\n"
     ]
    },
    {
     "name": "stdout",
     "output_type": "stream",
     "text": [
      "Total expense is ₹ 108.0\n"
     ]
    }
   ],
   "source": [
    "# program to calculate the total expenses. \n",
    "d = 0.1\n",
    "qty = int(input(\"Enter the quantity of the item\"))\n",
    "price = int(input(\"Enter the price of the item: ₹ \"))\n",
    "exp = qty * price\n",
    "if qty >=10:\n",
    "    t_exp = exp - exp*d\n",
    "    print(f\"Total expense is ₹ {t_exp}\")\n",
    "else:\n",
    "    print(f\"Total expense is ₹ {exp}\")"
   ]
  },
  {
   "cell_type": "code",
   "execution_count": 4,
   "id": "477f9181-f336-48a1-a204-766493903966",
   "metadata": {},
   "outputs": [
    {
     "name": "stdin",
     "output_type": "stream",
     "text": [
      "Enter the year the employee joined:  2024\n",
      "Enter the current year:  2023\n"
     ]
    }
   ],
   "source": [
    "# Program to check eligibilty of bonus\n",
    "join_year = int(input(\"Enter the year the employee joined: \"))\n",
    "current_year = int(input(\"Enter the current year: \"))\n",
    "employee_served= current_year - join_year\n",
    "if employee_served > 3:\n",
    "    print(\" You have recieved ₹2500 as bonus\")\n",
    "else:\n",
    "    pass"
   ]
  },
  {
   "cell_type": "code",
   "execution_count": 6,
   "id": "160ab193-250b-4779-9091-99039131d0e8",
   "metadata": {},
   "outputs": [
    {
     "name": "stdin",
     "output_type": "stream",
     "text": [
      "Enter your basic salary: ₹  1500\n"
     ]
    },
    {
     "name": "stdout",
     "output_type": "stream",
     "text": [
      "Your gross slaryis ₹3470.0\n"
     ]
    }
   ],
   "source": [
    "# find his gross salary\n",
    "basic_salary = int(input(\"Enter your basic salary: ₹ \"))\n",
    "if basic_salary < 1500:\n",
    "    gross = basic_salary + basic_salary * 0.1 + basic_salary *0.9\n",
    "else:\n",
    "    gross = basic_salary + 500 + basic_salary *0.98\n",
    "print (f\"Your gross slaryis ₹{gross}\")"
   ]
  },
  {
   "cell_type": "code",
   "execution_count": 15,
   "id": "3a5b9753-fce8-44fd-b330-3a8166a9eeec",
   "metadata": {},
   "outputs": [
    {
     "name": "stdin",
     "output_type": "stream",
     "text": [
      "Enter the marks of subject 1 90\n",
      "Enter the marks of subject 2 90\n",
      "Enter the marks of subject 3 90\n",
      "Enter the marks of subject 4 90\n",
      "Enter the marks of subject 5 90\n"
     ]
    },
    {
     "name": "stdout",
     "output_type": "stream",
     "text": [
      "First Division\n"
     ]
    }
   ],
   "source": [
    "#  program to calculate the division obtained by the student.\n",
    "marks = 0\n",
    "for i in range(1,6):\n",
    "    mark = int(input(f\"Enter the marks of subject {i}\"))\n",
    "    marks = mark + marks\n",
    "percentage = (marks/5)\n",
    "if percentage >= 60:\n",
    "    print(\"First Division\")\n",
    "elif 59 > percentage >= 50:\n",
    "    print(\"Second Division\")\n",
    "elif 49 > percentage >= 40:\n",
    "    print(\"Third Division\")\n",
    "else:\n",
    "    print(\"Fail\")"
   ]
  },
  {
   "cell_type": "code",
   "execution_count": 20,
   "id": "5b7f37dc-bf17-4dc7-84c9-33f724ad2844",
   "metadata": {},
   "outputs": [
    {
     "name": "stdin",
     "output_type": "stream",
     "text": [
      "Enter your Maritial status as 'M' for married and 'U' for unmarried: u\n",
      "Enter your age 25\n",
      "Enter 'M' for male and 'F' for female m\n"
     ]
    },
    {
     "name": "stdout",
     "output_type": "stream",
     "text": [
      "Not Insured\n"
     ]
    }
   ],
   "source": [
    "# A company insures its drivers\n",
    "martial_status= input(\"Enter your Maritial status as 'M' for married and 'U' for unmarried:\")\n",
    "age= int(input(\"Enter your age\"))\n",
    "gender= input(\"Enter 'M' for male and 'F' for female\")\n",
    "if martial_status.lower() == 'm':\n",
    "    print(\"Insured\")\n",
    "elif gender.lower() == 'm' and age >30:\n",
    "    print(\"Insured\")\n",
    "elif gender.lower() == 'f' and age >25:\n",
    "    print(\"Insured\")\n",
    "else:\n",
    "    print(\"Not Insured\")"
   ]
  },
  {
   "cell_type": "code",
   "execution_count": 23,
   "id": "65d009a6-82c6-401f-9db4-39c60041093c",
   "metadata": {},
   "outputs": [
    {
     "name": "stdin",
     "output_type": "stream",
     "text": [
      "Enter 'M' for male and 'F' for female f\n",
      "Enter year of service 6\n",
      "Enter 'P' for post-graduate and 'G' for graduate g\n"
     ]
    },
    {
     "name": "stdout",
     "output_type": "stream",
     "text": [
      "Salar ₹ 6000\n"
     ]
    }
   ],
   "source": [
    "# calculate the salary\n",
    "gender= input(\"Enter 'M' for male and 'F' for female\")\n",
    "service_year= int(input(\"Enter year of service\"))\n",
    "quali= input(\"Enter 'P' for post-graduate and 'G' for graduate\")\n",
    "if gender.lower() == 'm':\n",
    "    if service_year >= 10:\n",
    "        if quali.lower() == 'p':\n",
    "            print(\"Salar ₹ 15000\")\n",
    "        elif quali.lower() == 'g':\n",
    "            print(\"Salar ₹ 10000\")\n",
    "        else:\n",
    "            print(\"Enter qualification detail correctly\")\n",
    "    else:\n",
    "        if quali.lower() == 'p':\n",
    "            print(\"Salar ₹ 10000\")\n",
    "        elif quali.lower() == 'g':\n",
    "            print(\"Salar ₹ 7000\")\n",
    "        else:\n",
    "            print(\"Enter qualification detail correctly\")\n",
    "elif gender.lower() == 'f':\n",
    "    if service_year >= 10:\n",
    "        if quali.lower() == 'p':\n",
    "            print(\"Salar ₹ 12000\")\n",
    "        elif quali.lower() == 'g':\n",
    "            print(\"Salar ₹ 9000\")\n",
    "        else:\n",
    "            print(\"Enter qualification detail correctly\")\n",
    "    else:\n",
    "        if quali.lower() == 'p':\n",
    "            print(\"Salar ₹ 10000\")\n",
    "        elif quali.lower() == 'g':\n",
    "            print(\"Salar ₹ 6000\")\n",
    "        else:\n",
    "            print(\"Enter qualification detail correctly\")\n",
    "else:\n",
    "    print(\"Enter gender detail correctly\")"
   ]
  },
  {
   "cell_type": "code",
   "execution_count": 26,
   "id": "afe0de63-9aef-4266-a164-1951b49195cd",
   "metadata": {},
   "outputs": [
    {
     "name": "stdin",
     "output_type": "stream",
     "text": [
      " Enter the cost price of the item: ₹ 56\n",
      " Enter the selling price of the item: ₹ 1025\n"
     ]
    },
    {
     "name": "stdout",
     "output_type": "stream",
     "text": [
      "Profit earned of ₹ 969\n"
     ]
    }
   ],
   "source": [
    "#  write a program to determine whether the seller has made profit or incurred loss.\n",
    "cp = int(input(\" Enter the cost price of the item: ₹\"))\n",
    "sp = int(input(\" Enter the selling price of the item: ₹\"))\n",
    "amt = sp - cp\n",
    "if amt >0:\n",
    "    print(f\"Profit earned of ₹ {amt}\")\n",
    "    \n",
    "else:\n",
    "    print(f\"Loss incured of ₹{abs(amt)}\")"
   ]
  },
  {
   "cell_type": "code",
   "execution_count": 28,
   "id": "05645213-dcc5-4070-9d62-2f1a005151f8",
   "metadata": {},
   "outputs": [
    {
     "name": "stdin",
     "output_type": "stream",
     "text": [
      " Enter the number 45\n"
     ]
    },
    {
     "name": "stdout",
     "output_type": "stream",
     "text": [
      "Odd\n"
     ]
    }
   ],
   "source": [
    "# Even odd\n",
    "num = int(input(\" Enter the number\"))\n",
    "if num % 2 == 0:\n",
    "    print (\"Even\")\n",
    "else:\n",
    "    print(\"Odd\")"
   ]
  },
  {
   "cell_type": "code",
   "execution_count": 37,
   "id": "2ecd6d6e-1a4e-4b32-9d25-b11d49726b4a",
   "metadata": {},
   "outputs": [
    {
     "name": "stdin",
     "output_type": "stream",
     "text": [
      " Enter the five digit number 12121\n"
     ]
    },
    {
     "name": "stdout",
     "output_type": "stream",
     "text": [
      "Original Number: 12121\n",
      "Reversed Number: 12121\n",
      "Equal\n"
     ]
    }
   ],
   "source": [
    "\"\"\" A five-digit number is entered through the keyboard. Write a program to obtain the \n",
    "reversed number and to determine whether the original and reversed numbers are equal \n",
    "or not. \"\"\"\n",
    "num = input(\" Enter the five digit number\")\n",
    "if len(num) == 5:\n",
    "    s = num[::-1]\n",
    "    print(f\"Original Number: {num}\")\n",
    "    print(f\"Reversed Number: {s}\")\n",
    "    a= int(s)\n",
    "    b = int(num)\n",
    "    if a == b:\n",
    "        print(\"Equal\")\n",
    "    else:\n",
    "        print(\"Unequal\")\n",
    "else:\n",
    "    print(\"Number is not of 5 digit\")\n"
   ]
  },
  {
   "cell_type": "code",
   "execution_count": 41,
   "id": "a9eec0d7-f764-458e-8779-a179be7846f4",
   "metadata": {},
   "outputs": [
    {
     "name": "stdin",
     "output_type": "stream",
     "text": [
      "Enter age of Ram 56\n",
      "Enter age of Shyam 45\n",
      "Enter age of Ajay 12\n"
     ]
    },
    {
     "name": "stdout",
     "output_type": "stream",
     "text": [
      "Youngest Person is Ajay\n"
     ]
    }
   ],
   "source": [
    "\"\"\" If the ages of Ram, Shyam and Ajay are input through the keyboard, write a program to \n",
    "determine the youngest of the three. \"\"\"\n",
    "name = [\"Ram\", \"Shyam\", \"Ajay\"]\n",
    "age = []\n",
    "for i in name:\n",
    "    a = int(input(f\"Enter age of {i}\"))\n",
    "    age.append(a)\n",
    "y_age= min(age)\n",
    "y_index= age.index(y_age)\n",
    "youngest_person= name[y_index]\n",
    "print(f\"Youngest Person is {youngest_person}\")"
   ]
  },
  {
   "cell_type": "code",
   "execution_count": 44,
   "id": "bf6d90af-aa7e-4fa1-89a8-ffab9019f4f0",
   "metadata": {},
   "outputs": [
    {
     "name": "stdin",
     "output_type": "stream",
     "text": [
      "Enter the angle 1 of the triangle: 60\n",
      "Enter the angle 2 of the triangle: 60\n",
      "Enter the angle 3 of the triangle: 60\n"
     ]
    },
    {
     "name": "stdout",
     "output_type": "stream",
     "text": [
      "Valid Triangle\n"
     ]
    }
   ],
   "source": [
    "#  program to check whether a triangle is valid or not\n",
    "angle = 0\n",
    "for i in range(1,4):\n",
    "    angles = int(input(f\"Enter the angle {i} of the triangle:\"))\n",
    "    angle += angles\n",
    "if angle == 180:\n",
    "    print(\"Valid Triangle\")\n",
    "else:\n",
    "    print(\"Not a Valid Traingle\")"
   ]
  },
  {
   "cell_type": "code",
   "execution_count": 49,
   "id": "3772e0ef-8988-47e9-ae41-73f6b27f3ae2",
   "metadata": {},
   "outputs": [
    {
     "name": "stdin",
     "output_type": "stream",
     "text": [
      " Enter the number -5665\n"
     ]
    },
    {
     "name": "stdout",
     "output_type": "stream",
     "text": [
      "Absolute valus is : 5665.0\n"
     ]
    }
   ],
   "source": [
    "#  Find the absolute value of a number entered through the keyboard.\n",
    "num = float(input(\" Enter the number\"))\n",
    "n = abs(num)\n",
    "print(f\"Absolute valus is : {n}\")"
   ]
  },
  {
   "cell_type": "code",
   "execution_count": 50,
   "id": "cededa85-6476-4c16-8257-930fa0b87910",
   "metadata": {},
   "outputs": [
    {
     "name": "stdin",
     "output_type": "stream",
     "text": [
      "Enter the length of the rectangle: 5\n",
      "Enter the breadth of the rectangle: 5\n"
     ]
    },
    {
     "name": "stdout",
     "output_type": "stream",
     "text": [
      " The area of the rectangle = 25 with length = 5 and breadth = 5 is greater than its perimeter= 20\n"
     ]
    }
   ],
   "source": [
    "# find whether the area of the rectangle is greater than its perimeter.\n",
    "l = int(input(\"Enter the length of the rectangle:\"))\n",
    "b = int(input(\"Enter the breadth of the rectangle:\"))\n",
    "a = l * b\n",
    "p = 2*(l+b)\n",
    "if a > p:\n",
    "    print(f\" The area of the rectangle = {a} with length = {l} and breadth = {b} is greater than its perimeter= {p}\")\n",
    "else:\n",
    "    print(f\" The area of the rectangle = {a} with length = {l} and breadth = {b} is less than its perimeter= {p}\")"
   ]
  },
  {
   "cell_type": "code",
   "execution_count": 51,
   "id": "d4f07d5d-9b45-4f82-b67e-93de64844121",
   "metadata": {},
   "outputs": [
    {
     "name": "stdin",
     "output_type": "stream",
     "text": [
      "Enter the year: 2024\n"
     ]
    },
    {
     "name": "stdout",
     "output_type": "stream",
     "text": [
      "Leap year\n"
     ]
    }
   ],
   "source": [
    "# Leap year or not\n",
    "year = int(input(\"Enter the year:\"))\n",
    "\n",
    "if (year % 4 == 0 and year % 100 !=0 and year % 400!= 0):\n",
    "  print(\"Leap year\")\n",
    "else:\n",
    "  print(\"Not leap year\")"
   ]
  },
  {
   "cell_type": "code",
   "execution_count": 54,
   "id": "964d1c2c-337e-430f-af37-a4f72e6034bb",
   "metadata": {},
   "outputs": [
    {
     "name": "stdin",
     "output_type": "stream",
     "text": [
      "Enter the hardness of the steel:  45\n",
      "Enter the carbon content of the steel:  0.9\n",
      "Enter the tensile strength of the steel:  500\n"
     ]
    },
    {
     "name": "stdout",
     "output_type": "stream",
     "text": [
      "The grade of the steel is: 5\n"
     ]
    }
   ],
   "source": [
    "# Get the hardness, carbon content, and tensile strength from the user\n",
    "hardness = float(input(\"Enter the hardness of the steel: \"))\n",
    "carbon_content = float(input(\"Enter the carbon content of the steel: \"))\n",
    "tensile_strength = float(input(\"Enter the tensile strength of the steel: \"))\n",
    "\n",
    "condition1 = hardness > 50\n",
    "condition2 = carbon_content < 0.7\n",
    "condition3 = tensile_strength > 5600\n",
    "\n",
    "if condition1 and condition2 and condition3:\n",
    "    grade = 10\n",
    "elif condition1 and condition2:\n",
    "    grade = 9\n",
    "elif condition2 and condition3:\n",
    "    grade = 8\n",
    "elif condition1 and condition3:\n",
    "    grade = 7\n",
    "elif condition1 or condition2 or condition3:\n",
    "    grade = 6\n",
    "else:\n",
    "    grade = 5\n",
    "\n",
    "print(f\"The grade of the steel is: {grade}\")\n"
   ]
  },
  {
   "cell_type": "code",
   "execution_count": 58,
   "id": "7e36782e-6ef7-4f7a-b4f9-9ced0e9fc8b6",
   "metadata": {},
   "outputs": [
    {
     "name": "stdin",
     "output_type": "stream",
     "text": [
      "Enter the number of days you are late to return the book: 6\n"
     ]
    },
    {
     "name": "stdout",
     "output_type": "stream",
     "text": [
      "Fine is ₹1\n"
     ]
    }
   ],
   "source": [
    "days_late = int(input(\"Enter the number of days you are late to return the book:\"))\n",
    "if days_late <=5:\n",
    "    print(\"Fine is 50 paise\")\n",
    "elif 5 < days_late <= 10:\n",
    "    print(\"Fine is ₹1\")\n",
    "elif 10 < days_late <= 30:\n",
    "    print(\"Fine is ₹5\")\n",
    "elif days_late > 30:\n",
    "    print(\"Membership Cancelled\")\n",
    "else:\n",
    "    print(\"Enter Valid days\")"
   ]
  },
  {
   "cell_type": "code",
   "execution_count": 59,
   "id": "82bfc286-652e-423a-906a-ea254d733916",
   "metadata": {},
   "outputs": [
    {
     "name": "stdin",
     "output_type": "stream",
     "text": [
      "Enter the time taken by the worker to complete the job (in hours):  5\n"
     ]
    },
    {
     "name": "stdout",
     "output_type": "stream",
     "text": [
      "The worker is needs training to improve speed.\n"
     ]
    }
   ],
   "source": [
    "# efficiency is determined on the basis of the time required for a worker to complete a particular job.\n",
    "time_taken = float(input(\"Enter the time taken by the worker to complete the job (in hours): \"))\n",
    "\n",
    "if 2 <= time_taken <= 3:\n",
    "    efficiency = \"highly efficient\"\n",
    "elif 3 < time_taken <= 4:\n",
    "    efficiency = \"needs to improve speed\"\n",
    "elif 4 < time_taken <= 5:\n",
    "    efficiency = \"needs training to improve speed\"\n",
    "elif time_taken > 5:\n",
    "    efficiency = \"has to leave the company\"\n",
    "else:\n",
    "    efficiency = \"invalid input\"\n",
    "print(f\"The worker is {efficiency}.\")\n"
   ]
  }
 ],
 "metadata": {
  "kernelspec": {
   "display_name": "Python 3 (ipykernel)",
   "language": "python",
   "name": "python3"
  },
  "language_info": {
   "codemirror_mode": {
    "name": "ipython",
    "version": 3
   },
   "file_extension": ".py",
   "mimetype": "text/x-python",
   "name": "python",
   "nbconvert_exporter": "python",
   "pygments_lexer": "ipython3",
   "version": "3.11.5"
  }
 },
 "nbformat": 4,
 "nbformat_minor": 5
}

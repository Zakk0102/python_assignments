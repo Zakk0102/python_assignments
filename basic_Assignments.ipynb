{
 "cells": [
  {
   "cell_type": "markdown",
   "id": "d294daae-0955-44c8-9a09-cca2367e99b8",
   "metadata": {},
   "source": [
    "## Basic Assignment"
   ]
  },
  {
   "cell_type": "code",
   "execution_count": 1,
   "id": "f0114793-a5ae-4cc0-a1c9-261436c605e2",
   "metadata": {},
   "outputs": [
    {
     "name": "stdout",
     "output_type": "stream",
     "text": [
      "Hello TopMentor\n"
     ]
    }
   ],
   "source": [
    "a = \"Hello TopMentor\"\n",
    "print(a)"
   ]
  },
  {
   "cell_type": "code",
   "execution_count": 2,
   "id": "e49f6328-c9b0-47bb-a9f1-f097d636da4a",
   "metadata": {},
   "outputs": [
    {
     "name": "stdout",
     "output_type": "stream",
     "text": [
      "Welcome to Data World\n"
     ]
    }
   ],
   "source": [
    "a =\"Welcome to Data World\"\n",
    "print(a)"
   ]
  },
  {
   "cell_type": "code",
   "execution_count": 4,
   "id": "881015d2-7e9d-4b77-8ed2-86632d5efd1f",
   "metadata": {},
   "outputs": [
    {
     "name": "stdout",
     "output_type": "stream",
     "text": [
      " Hello Zakaria, Let's learn Data Science!\n"
     ]
    }
   ],
   "source": [
    "b = \"Zakaria\"\n",
    "print(f\" Hello {b}, Let's learn Data Science!\")"
   ]
  },
  {
   "cell_type": "code",
   "execution_count": 5,
   "id": "800bbf28-cdf4-482c-96c8-28b937ab2138",
   "metadata": {},
   "outputs": [
    {
     "name": "stdout",
     "output_type": "stream",
     "text": [
      "Albert Einstein once said 'If you can't explain it simply, you don't understand it well enough.'\n"
     ]
    }
   ],
   "source": [
    "# Date: 23-07-2024, This program prints the quote form then author\n",
    "author= \"Albert Einstein\"\n",
    "quote= \"If you can't explain it simply, you don't understand it well enough.\"\n",
    "print(f\"{author} once said '{quote}'\")"
   ]
  },
  {
   "cell_type": "code",
   "execution_count": 6,
   "id": "6ff4d8a7-ed0a-4e51-991a-0e1fd37f6fc0",
   "metadata": {},
   "outputs": [
    {
     "name": "stdout",
     "output_type": "stream",
     "text": [
      "8\n",
      "8\n",
      "8\n",
      "8.0\n"
     ]
    }
   ],
   "source": [
    "print(5+3)\n",
    "print(10-2)\n",
    "print(2*4)\n",
    "print(16/2)"
   ]
  },
  {
   "cell_type": "code",
   "execution_count": 7,
   "id": "d2d80af7-f04d-4113-ae3e-d09296299ad3",
   "metadata": {},
   "outputs": [
    {
     "name": "stdout",
     "output_type": "stream",
     "text": [
      "My favourite number is 11\n"
     ]
    }
   ],
   "source": [
    "# Date: 23-07-2024, This program prints the favourite number\n",
    "z= 11\n",
    "print(f\"My favourite number is {z}\")"
   ]
  },
  {
   "cell_type": "code",
   "execution_count": 8,
   "id": "63a57da5-9bac-4a2f-91d7-55476e06bd6a",
   "metadata": {},
   "outputs": [
    {
     "name": "stdout",
     "output_type": "stream",
     "text": [
      "Zak\n",
      "Ati\n",
      "Salar\n"
     ]
    }
   ],
   "source": [
    "friends = [\"Zak\", \"Ati\", \"Salar\"]\n",
    "for i in friends:\n",
    "    print(i)"
   ]
  },
  {
   "cell_type": "code",
   "execution_count": 9,
   "id": "e1ba7a38-f68c-4d3a-9a49-018b7d05cdd4",
   "metadata": {},
   "outputs": [
    {
     "name": "stdout",
     "output_type": "stream",
     "text": [
      "Hi my dear, Zak\n",
      "Hi my dear, Ati\n",
      "Hi my dear, Salar\n"
     ]
    }
   ],
   "source": [
    "for i in friends:\n",
    "    print(f\"Hi my dear, {i}\")"
   ]
  },
  {
   "cell_type": "code",
   "execution_count": 10,
   "id": "877c1aff-f2ba-48b4-abaf-43ef3d365eb8",
   "metadata": {},
   "outputs": [
    {
     "name": "stdout",
     "output_type": "stream",
     "text": [
      "My fav bike is Honda ZMR\n",
      "My Fav car is ferrari\n",
      "My fav car is Thar\n"
     ]
    }
   ],
   "source": [
    "statement = [\"My fav bike is Honda ZMR\", \"My Fav car is ferrari\", \"My fav car is Thar\"]\n",
    "for i in statement:\n",
    "    print(i)"
   ]
  }
 ],
 "metadata": {
  "kernelspec": {
   "display_name": "Python 3 (ipykernel)",
   "language": "python",
   "name": "python3"
  },
  "language_info": {
   "codemirror_mode": {
    "name": "ipython",
    "version": 3
   },
   "file_extension": ".py",
   "mimetype": "text/x-python",
   "name": "python",
   "nbconvert_exporter": "python",
   "pygments_lexer": "ipython3",
   "version": "3.11.5"
  }
 },
 "nbformat": 4,
 "nbformat_minor": 5
}

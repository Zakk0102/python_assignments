{
 "cells": [
  {
   "cell_type": "markdown",
   "id": "4da7ac64-e117-4131-bd46-90df97ce4c8c",
   "metadata": {},
   "source": [
    "#### Tuple Assignments"
   ]
  },
  {
   "cell_type": "code",
   "execution_count": 1,
   "id": "afc13766-7647-419f-8942-a6a92d8b65f4",
   "metadata": {},
   "outputs": [
    {
     "name": "stdout",
     "output_type": "stream",
     "text": [
      "()\n"
     ]
    }
   ],
   "source": [
    "# 1. Write a Python program to create a tuple\n",
    "t = ()\n",
    "print(t)"
   ]
  },
  {
   "cell_type": "code",
   "execution_count": 3,
   "id": "e52e3797-1d13-4bca-bc06-6e4260aaab1c",
   "metadata": {},
   "outputs": [
    {
     "name": "stdout",
     "output_type": "stream",
     "text": [
      "('Tutor Joes', True, 'T', 3.21, 10)\n"
     ]
    }
   ],
   "source": [
    "# 2. Write a Python program to create a tuple with different data types\n",
    "t = ('Tutor Joes', True, 'T', 3.21, 10)\n",
    "print(t)"
   ]
  },
  {
   "cell_type": "code",
   "execution_count": 6,
   "id": "a45d20aa-20e5-4544-a6b0-c09d541954ea",
   "metadata": {},
   "outputs": [
    {
     "name": "stdout",
     "output_type": "stream",
     "text": [
      "15\n",
      "<class 'tuple'>\n"
     ]
    }
   ],
   "source": [
    "# 3. Write a Python program to create a tuple with numbers and print one item \n",
    "n = (5, 10, 15, 20, 25)\n",
    "print(n[2])\n",
    "print(type(n))"
   ]
  },
  {
   "cell_type": "code",
   "execution_count": 9,
   "id": "4b96c42f-461d-4a88-af74-b809914ab202",
   "metadata": {},
   "outputs": [
    {
     "name": "stdout",
     "output_type": "stream",
     "text": [
      "4 8 3\n"
     ]
    }
   ],
   "source": [
    "# 4. Write a Python program to unpack a tuple in several variables\n",
    "t = (4, 8, 3) \n",
    "a , b, c = t\n",
    "print(a, b, c)"
   ]
  },
  {
   "cell_type": "code",
   "execution_count": 13,
   "id": "116fc4a9-a3d7-49ab-8072-c5d208cc0808",
   "metadata": {},
   "outputs": [
    {
     "name": "stdout",
     "output_type": "stream",
     "text": [
      "(10, 40, 50, 70, 90, 20)\n"
     ]
    }
   ],
   "source": [
    "# 5. Write a Python program to add an item in a tuple \n",
    "l= (10, 40, 50, 70, 90)\n",
    "n = 20\n",
    "c = l + (n,)\n",
    "print(c)"
   ]
  },
  {
   "cell_type": "code",
   "execution_count": 16,
   "id": "a759715b-b4e1-4972-8917-c9d76279974b",
   "metadata": {},
   "outputs": [
    {
     "name": "stdout",
     "output_type": "stream",
     "text": [
      "Tutor Joes\n"
     ]
    }
   ],
   "source": [
    "# 6. Write a Python program to convert a tuple to a string\n",
    "t = ('T', 'u', 't', 'o', 'r', ' ', 'J', 'o', 'e', 's')\n",
    "a = ''\n",
    "for i in t:\n",
    "    a+=i\n",
    "print(a)"
   ]
  },
  {
   "cell_type": "code",
   "execution_count": 19,
   "id": "31d72bfa-f449-43f1-8df8-156139286477",
   "metadata": {},
   "outputs": [
    {
     "name": "stdout",
     "output_type": "stream",
     "text": [
      "4th Elements From Tuple :e\n",
      "4th Elements From Last Tuple :u\n"
     ]
    }
   ],
   "source": [
    "# 7. Write a Python program to get the 4th element and 4th element from last of a tuple\n",
    "t= ('w', 3, 'r', 'e', 's', 'o', 'u', 'r', 'c', 'e')\n",
    "n4= t[3]\n",
    "l4= t[-4]\n",
    "print(f\"4th Elements From Tuple :{n4}\")\n",
    "print(f\"4th Elements From Last Tuple :{l4}\")"
   ]
  },
  {
   "cell_type": "code",
   "execution_count": 20,
   "id": "e946dbe8-6eb3-407a-ad49-f5d4323273e4",
   "metadata": {},
   "outputs": [
    {
     "name": "stdout",
     "output_type": "stream",
     "text": [
      "Copy: ('Tutor', 'J', 23, 56.67, [23, 12], True)\n"
     ]
    }
   ],
   "source": [
    "# 8. Write a Python program to create the colon of a tuple\n",
    "l = (\"Tutor\", 'J', 23 , 56.67 , [23,12] , True)\n",
    "c= l[:]\n",
    "print(\"Copy:\",c)"
   ]
  },
  {
   "cell_type": "code",
   "execution_count": 21,
   "id": "28da0b4f-9f6a-4722-9e1b-c378ab9c265c",
   "metadata": {},
   "outputs": [
    {
     "name": "stdin",
     "output_type": "stream",
     "text": [
      "Enter the item to count: 2\n"
     ]
    },
    {
     "name": "stdout",
     "output_type": "stream",
     "text": [
      "3\n"
     ]
    }
   ],
   "source": [
    "# 9. Write a Python program to find the repeated items of a tuple\n",
    "t = (2, 34, 45, 6, 7, 2, 4, 5, 78, 34, 2)\n",
    "item = int(input(\"Enter the item to count:\"))\n",
    "c = t.count(item)\n",
    "print(c)"
   ]
  },
  {
   "cell_type": "code",
   "execution_count": 30,
   "id": "ef8ee25e-3b1b-49f3-b3f6-e1aac3ca5f10",
   "metadata": {},
   "outputs": [
    {
     "name": "stdin",
     "output_type": "stream",
     "text": [
      "Enter the element: 8\n"
     ]
    },
    {
     "name": "stdout",
     "output_type": "stream",
     "text": [
      "'8' in Tuple = True\n"
     ]
    }
   ],
   "source": [
    "# 10. Write a Python program to check whether an element exists within a tuple\n",
    "t =('T', 'u', 't', 'o', 'r', ' ', 'J', 'o', 'e', 's',8) \n",
    "s=str(t)\n",
    "item = input(\"Enter the element:\")\n",
    "if item in s:\n",
    "    print(f\"'{item}' in Tuple = True\")\n",
    "else:\n",
    "    print(f\"'{item}' in Tuple = False\")"
   ]
  },
  {
   "cell_type": "code",
   "execution_count": 31,
   "id": "8ee5bf38-2618-4a8e-adc7-711112e2994a",
   "metadata": {},
   "outputs": [
    {
     "name": "stdout",
     "output_type": "stream",
     "text": [
      "(12, 45, 87, 54, 89, 4)\n"
     ]
    }
   ],
   "source": [
    "# 11. Write a Python program to convert a list to a tuple\n",
    "l = [12, 45, 87, 54, 89, 4] \n",
    "t = tuple(l)\n",
    "print(t)"
   ]
  },
  {
   "cell_type": "code",
   "execution_count": 36,
   "id": "589ed5a6-540e-4cad-8bf5-3bd43e366fd5",
   "metadata": {},
   "outputs": [
    {
     "name": "stdout",
     "output_type": "stream",
     "text": [
      "(23, 45, 68, 10, 45, 7, 9)\n"
     ]
    }
   ],
   "source": [
    "# 12. Write a Python program to remove an item from a tuple\n",
    "t= (23, 45, 56, 68, 10, 45, 7, 9)\n",
    "item = 56\n",
    "c = tuple(i for i in t if i != item)\n",
    "print(c)"
   ]
  },
  {
   "cell_type": "code",
   "execution_count": 41,
   "id": "58aebad4-a8dc-4fc8-bcc4-3ddb88d0421d",
   "metadata": {},
   "outputs": [
    {
     "name": "stdout",
     "output_type": "stream",
     "text": [
      "(40, 50, 60, 70, 80)\n"
     ]
    }
   ],
   "source": [
    "# 13. Write a Python program to slice a tuple\n",
    "t= (10, 20, 30, 40, 50, 60, 70, 80, 90, 100) \n",
    "s = t[3:-2]\n",
    "print(s)"
   ]
  },
  {
   "cell_type": "code",
   "execution_count": 43,
   "id": "0975a006-2edd-4f04-828b-53b2bf79b405",
   "metadata": {},
   "outputs": [
    {
     "name": "stdout",
     "output_type": "stream",
     "text": [
      "Index Number : 3\n"
     ]
    }
   ],
   "source": [
    "# 14. Write a Python program to find the index of an item of a tuple\n",
    "t = (23, 45, 67, 78, 89, 90, 34, 56) \n",
    "item = 78\n",
    "s = t.index(item)\n",
    "print(\"Index Number :\",s)"
   ]
  },
  {
   "cell_type": "code",
   "execution_count": 44,
   "id": "2654cd9c-4bb5-425c-9112-5fa8c70257d0",
   "metadata": {},
   "outputs": [
    {
     "name": "stdout",
     "output_type": "stream",
     "text": [
      "{'Name': 'Ram', 'Age': 23, 'City': 'Salem', 'Mark': 422}\n"
     ]
    }
   ],
   "source": [
    "# 15. Write a Python program to find the length of a tuple\n",
    "t = ( (\"Name\", \"Ram\"), (\"Age\", 23), (\"City\", \"Salem\"), (\"Mark\", 422) )\n",
    "s = dict(t)\n",
    "print(s)"
   ]
  },
  {
   "cell_type": "code",
   "execution_count": 45,
   "id": "eddf8eb1-18b7-4674-ab54-eb486a8cad9a",
   "metadata": {},
   "outputs": [
    {
     "name": "stdout",
     "output_type": "stream",
     "text": [
      "[(10, 60, 20), (30, 90, 50)]\n"
     ]
    }
   ],
   "source": [
    "# 17. Write a Python program to unzip a list of tuples into individual lists\n",
    "t = [ (10,30), (60,90), (20,50) ]\n",
    "l = list(zip(*t))\n",
    "print(l)"
   ]
  },
  {
   "cell_type": "code",
   "execution_count": 49,
   "id": "b2114f34-d097-4aec-97ca-c01c1e6088da",
   "metadata": {},
   "outputs": [
    {
     "name": "stdout",
     "output_type": "stream",
     "text": [
      "After Reverse :  (56, 34, 90, 89, 78, 67, 45, 23)\n"
     ]
    }
   ],
   "source": [
    "# 18. Write a Python program to reverse a tuple\n",
    "t =( 23, 45, 67, 78, 89, 90, 34, 56 )\n",
    "m = t [::-1]\n",
    "print (\"After Reverse : \",m)"
   ]
  },
  {
   "cell_type": "code",
   "execution_count": 53,
   "id": "307b3877-7b97-4f7b-bf18-1f3b87171c7f",
   "metadata": {},
   "outputs": [
    {
     "name": "stdout",
     "output_type": "stream",
     "text": [
      "{'Name': ['Ram', 'Pooja'], 'Age': [21, 23], 'Gender': ['Male', 'Female']}\n"
     ]
    }
   ],
   "source": [
    "# 19. Write a Python program to convert a list of tuples into a dictionary\n",
    "t =[ (\"Name\", \"Ram\"), (\"Name\", \"Pooja\"), (\"Age\", 21), (\"Gender\", \"Male\"), (\"Age\", 23), (\"Gender\", \n",
    "\"Female\") ]\n",
    "result ={}\n",
    "for key, value in t:\n",
    "    if key in result:\n",
    "        result[key].append(value)\n",
    "    else:\n",
    "        result[key] = [value]\n",
    "print(result)"
   ]
  },
  {
   "cell_type": "code",
   "execution_count": 54,
   "id": "10e97811-f24f-4619-9858-f69c7afcdac9",
   "metadata": {},
   "outputs": [
    {
     "name": "stdout",
     "output_type": "stream",
     "text": [
      "Fruits ('watermelons', 'strawberries', 'mangoes', 'bananas', 'grapefruits', 'oranges', 'apples', 'pears')\n"
     ]
    }
   ],
   "source": [
    "# 20. Write a Python program to print a tuple with string formatting\n",
    "fruits = (\"watermelons\", \"strawberries\", \"mangoes\", \"bananas\", \n",
    "          \"grapefruits\", \"oranges\", \"apples\", \"pears\")\n",
    "\n",
    "print(\"Fruits {}\".format(fruits))"
   ]
  },
  {
   "cell_type": "code",
   "execution_count": 58,
   "id": "8108b1d7-4e2b-416c-8082-97545f4d019c",
   "metadata": {},
   "outputs": [
    {
     "name": "stdout",
     "output_type": "stream",
     "text": [
      "23\n",
      "<class 'tuple'>\n"
     ]
    }
   ],
   "source": [
    "# 21. Create a tuple with single item 23\n",
    "t = 23\n",
    "m = (t,)\n",
    "print(m[0])\n",
    "print(type(m))"
   ]
  },
  {
   "cell_type": "code",
   "execution_count": 59,
   "id": "5d18c408-2eaa-4b4b-9837-021ae48ca29e",
   "metadata": {},
   "outputs": [
    {
     "name": "stdout",
     "output_type": "stream",
     "text": [
      "11\n",
      "22\n",
      "333\n",
      "44\n",
      "55\n"
     ]
    }
   ],
   "source": [
    "# 22. Unpack the tuple into 5 variables\n",
    "Tuple = (11, 22, 333, 44, 55)\n",
    "for i in Tuple:\n",
    "    print(i)"
   ]
  },
  {
   "cell_type": "code",
   "execution_count": 62,
   "id": "b7ebac33-1d0d-4a9f-b4c2-9bce533fb41a",
   "metadata": {},
   "outputs": [
    {
     "name": "stdout",
     "output_type": "stream",
     "text": [
      "a: 20\n",
      "b: 10\n"
     ]
    }
   ],
   "source": [
    "# 23. Swap two tuples in Python\n",
    "a = (10,)\n",
    "b = (20,)\n",
    "a,b = b,a\n",
    "print(\"a:\", a[0])\n",
    "print(\"b:\", b[0])"
   ]
  },
  {
   "cell_type": "code",
   "execution_count": 63,
   "id": "5116a16a-94a8-40b0-b181-39420bd4af45",
   "metadata": {},
   "outputs": [
    {
     "name": "stdout",
     "output_type": "stream",
     "text": [
      "(30, 40, 50, 60, 70, 80)\n"
     ]
    }
   ],
   "source": [
    "# 24. Copy specific elements from one tuple to a new tuple\n",
    "t = (10, 20, 30, 40, 50, 60, 70, 80, 90, 100) \n",
    "s = 2\n",
    "e = 8\n",
    "nt = t[s:e]\n",
    "print(nt)"
   ]
  },
  {
   "cell_type": "code",
   "execution_count": 66,
   "id": "b791ff88-9152-4561-a29c-3c6a5e54278c",
   "metadata": {},
   "outputs": [
    {
     "name": "stdout",
     "output_type": "stream",
     "text": [
      "(10, 20, 36, 40, 50)\n"
     ]
    }
   ],
   "source": [
    "# 25. Modify the tuple \n",
    "t = ( 10, 20, 30, 40, 50 )\n",
    "item = 36\n",
    "t = list(t)\n",
    "t[2]  = item\n",
    "print(tuple(t))"
   ]
  },
  {
   "cell_type": "code",
   "execution_count": 13,
   "id": "641765fc-32ac-4264-832e-ee9a1db40d7c",
   "metadata": {},
   "outputs": [
    {
     "name": "stdout",
     "output_type": "stream",
     "text": [
      "[('d', 1), ('e', 18), ('c', 23), ('b', 37), ('a', 53)]\n"
     ]
    }
   ],
   "source": [
    "# 26. Sort a tuple of tuples by 2nd item\n",
    "t = ( ('a', 53), ('b', 37), ('c', 23), ('d', 1), ('e', 18) )\n",
    "t_sorted = sorted(t, key=lambda x: x[1])\n",
    "print(t_sorted)"
   ]
  },
  {
   "cell_type": "code",
   "execution_count": 14,
   "id": "93cb3814-9868-40c9-93a1-660b11c18549",
   "metadata": {},
   "outputs": [
    {
     "name": "stdout",
     "output_type": "stream",
     "text": [
      "3\n"
     ]
    }
   ],
   "source": [
    "# 27. Counts the number of occurrences of item 30 from a tuple\n",
    "t = (30, 50, 10, 30, 70, 50, 30)\n",
    "item = 30\n",
    "m = t.count(item)\n",
    "print(m)"
   ]
  },
  {
   "cell_type": "code",
   "execution_count": 18,
   "id": "5486a9cb-ec7d-439f-85b4-cacd79b4ae33",
   "metadata": {},
   "outputs": [
    {
     "name": "stdout",
     "output_type": "stream",
     "text": [
      "(12, 21, 18)\n"
     ]
    }
   ],
   "source": [
    "# 28. Write a Python program to compute element-wise sum of given tuples\n",
    "A = (2, 5, 8) \n",
    "B = (6, 5, 1) \n",
    "C = (1, 4, 7) \n",
    "D = (3, 7, 2) \n",
    "s = tuple(sum(i) for i in zip(A,B,C,D))\n",
    "print(s)"
   ]
  },
  {
   "cell_type": "code",
   "execution_count": 23,
   "id": "ca8773d5-8116-4908-a0a3-defaeec17a53",
   "metadata": {},
   "outputs": [
    {
     "name": "stdout",
     "output_type": "stream",
     "text": [
      "[('Jeeva', '91.40'), ('Ram', '89.20'), ('Pooja', '84.40'), ('Siva', '76.45'), ('Tara', '68.43')]\n"
     ]
    }
   ],
   "source": [
    "# 29. Write a Python program to sort a tuple by its float element\n",
    "t = [ ('Ram', '89.20'), ('Siva', '76.45'), ('Pooja', '84.40'), ('Tara', '68.43'), ('Jeeva', '91.40') ] \n",
    "t_sorted = sorted(t, key=lambda x: x[1])\n",
    "t_s= t_sorted[::-1]\n",
    "print(t_s)"
   ]
  },
  {
   "cell_type": "code",
   "execution_count": 27,
   "id": "4fec60a8-2247-4822-b2d7-cfc7ae31f460",
   "metadata": {},
   "outputs": [
    {
     "name": "stdout",
     "output_type": "stream",
     "text": [
      "[(5, 2, 10), (4, 7, 10), (8, 9, 10)]\n"
     ]
    }
   ],
   "source": [
    "# 30. Write a Python program to replace last value of tuples in a list\n",
    "t = [(5, 2, 3), (4, 7, 6), (8, 9, 6)]\n",
    "value = 10\n",
    "r = list(i[:-1] + (value,) for i in t)\n",
    "print(r)"
   ]
  },
  {
   "cell_type": "code",
   "execution_count": 29,
   "id": "1a692aea-0e68-4f1e-b367-45731774d828",
   "metadata": {},
   "outputs": [
    {
     "name": "stdout",
     "output_type": "stream",
     "text": [
      "[(47, 23), (22, 53)]\n"
     ]
    }
   ],
   "source": [
    "# 31. Write a Python program to Extract tuples having K digit elements\n",
    "t = [ (47, 23), (3, 78), (22, 53), (121, 45), (7,) ]\n",
    "k =2\n",
    "s = [i for i in t if all(len(str(x)) == k for x in i)]\n",
    "print(s)"
   ]
  },
  {
   "cell_type": "code",
   "execution_count": 31,
   "id": "914ff65e-fae8-4f72-bd04-e90cb18de277",
   "metadata": {},
   "outputs": [
    {
     "name": "stdout",
     "output_type": "stream",
     "text": [
      "{(2, 9), (18, 23)}\n"
     ]
    }
   ],
   "source": [
    "# 32. Write a Python program to Extract Symmetric Tuples\n",
    "t= [ (18, 23), (2, 9), (7, 6), (9, 2), (10, 2), (23, 18) ]\n",
    "st= set()\n",
    "for i in t:\n",
    "    if i[::-1] in t and i[::-1] !=t:\n",
    "        st.add(tuple(sorted(i)))\n",
    "print(st)\n",
    "            "
   ]
  },
  {
   "cell_type": "code",
   "execution_count": 33,
   "id": "5c69eb5b-5c38-41f1-9ccf-6518ccb11ba1",
   "metadata": {},
   "outputs": [
    {
     "name": "stdout",
     "output_type": "stream",
     "text": [
      "[(19, 4, 5, 3), (4, 5, 5, 7), (1, 3, 7, 4), (1, 2)]\n"
     ]
    }
   ],
   "source": [
    "# 33. Write a Python program to Sort Tuples by their Maximum element\n",
    "t = [ (4, 5, 5, 7), (1, 3, 7, 4), (19, 4, 5, 3), (1, 2) ]\n",
    "s = sorted(t, key= max, reverse= True)\n",
    "print(s)"
   ]
  },
  {
   "cell_type": "code",
   "execution_count": 34,
   "id": "2f851bce-3441-482c-bd60-3516fe8e098b",
   "metadata": {},
   "outputs": [
    {
     "name": "stdout",
     "output_type": "stream",
     "text": [
      "(10, 20, 40, 70)\n"
     ]
    }
   ],
   "source": [
    "# 34. Write a Python program to Remove nested records from tuple\n",
    "t = (10, 20, (30,), 40, (50, 60), 70)\n",
    "s= tuple(x for x in t if not isinstance(x, tuple))\n",
    "print(s)"
   ]
  },
  {
   "cell_type": "code",
   "execution_count": 35,
   "id": "0977d15b-00c0-4992-942a-2a4a3cdf2b76",
   "metadata": {},
   "outputs": [
    {
     "name": "stdout",
     "output_type": "stream",
     "text": [
      "Mixed Nested Tuple: (10, 20, (20, 10), 30, (40, 50, 60), 60, 70)\n",
      "Elements Frequency: {10: 2, 20: 2, 30: 1, 40: 1, 50: 1, 60: 2, 70: 1}\n"
     ]
    }
   ],
   "source": [
    "# 35. Write a Python program to Elements Frequency in Mixed Nested Tuple\n",
    "from collections import defaultdict\n",
    "\n",
    "mixed_tuple = (10, 20, (20, 10), 30, (40, 50, 60), 60, 70)\n",
    "\n",
    "frequency_dict = defaultdict(int)\n",
    "\n",
    "for item in mixed_tuple:\n",
    "    if isinstance(item, tuple):\n",
    "        for sub_item in item:\n",
    "            frequency_dict[sub_item] += 1\n",
    "    else:\n",
    "        frequency_dict[item] += 1\n",
    "\n",
    "frequency_dict = dict(frequency_dict)\n",
    "\n",
    "print(\"Mixed Nested Tuple:\", mixed_tuple)\n",
    "print(\"Elements Frequency:\", frequency_dict)\n"
   ]
  },
  {
   "cell_type": "code",
   "execution_count": 37,
   "id": "b3d6c1dc-44a3-4bc7-b330-38f2695a2564",
   "metadata": {},
   "outputs": [
    {
     "name": "stdout",
     "output_type": "stream",
     "text": [
      "[1, 2, 3, 4, 5, 6, 7, 9, 10]\n"
     ]
    }
   ],
   "source": [
    "# 36. Write a Python program to get unique elements in nested tuple\n",
    "t = [ (1, 3, 5), (4, 5, 7), (1, 2, 6), (10, 9), (10,) ]\n",
    "s = set()\n",
    "for i in t:\n",
    "    for x in i:\n",
    "        s.add(x)\n",
    "print(list(s))"
   ]
  },
  {
   "cell_type": "code",
   "execution_count": 38,
   "id": "6aeea0d6-dd73-4666-b2c9-f066a413a3fa",
   "metadata": {},
   "outputs": [
    {
     "name": "stdout",
     "output_type": "stream",
     "text": [
      "((18, 23, 2, 9), (10, 3, 11))\n"
     ]
    }
   ],
   "source": [
    "# 37. Write a Python program to Concatenate tuples to nested tuples\n",
    "t1=  ((18, 23, 2, 9),)\n",
    "t2 =  ((10, 3, 11),)\n",
    "t = t1 + t2\n",
    "print(t)"
   ]
  },
  {
   "cell_type": "code",
   "execution_count": 39,
   "id": "712c6d52-1fa9-411a-802d-f1074a1052c0",
   "metadata": {},
   "outputs": [
    {
     "name": "stdout",
     "output_type": "stream",
     "text": [
      "[(2, 7), (3, 7), (8, 7), (2, 5), (6, 5), (9, 8)]\n"
     ]
    }
   ],
   "source": [
    "# 38. Write a Python program to Sort by Frequency of second element in Tuple List\n",
    "from collections import Counter\n",
    "t = [ (2, 7), (3, 7), (2, 5), (8, 7), (6, 5), (9, 8) ]\n",
    "f = Counter(i[1] for i in t)\n",
    "s = sorted(t, key= lambda x : f[x[1]], reverse = True)\n",
    "print(s)"
   ]
  },
  {
   "cell_type": "code",
   "execution_count": 44,
   "id": "a149f1c5-b745-435d-a187-789457986fe3",
   "metadata": {},
   "outputs": [
    {
     "name": "stdout",
     "output_type": "stream",
     "text": [
      "([10, 50, 60], [20, 30, 80], [40, 70, 100], (90,))\n"
     ]
    }
   ],
   "source": [
    "# 39. Write a Python program to Sort lists in tuple\n",
    "t =( [10, 50, 60], [80, 20, 30], [70, 100, 40], (90,) )\n",
    "f = tuple(sorted(i) if isinstance(i, list) else i for i in t)\n",
    "print(f)"
   ]
  },
  {
   "cell_type": "code",
   "execution_count": 45,
   "id": "7fd1de29-0b7f-44bb-89c3-33c41fffd37f",
   "metadata": {},
   "outputs": [
    {
     "name": "stdout",
     "output_type": "stream",
     "text": [
      "[('A', 67), ('B', 68), ('C', 69), ('D', 70)]\n"
     ]
    }
   ],
   "source": [
    "# 40. Write a Python program to Order Tuples using external List\n",
    "t = [ ('B', 68), ('D', 70), ('A', 67), ('C', 69) ]\n",
    "s = sorted(t)\n",
    "print(s)"
   ]
  },
  {
   "cell_type": "code",
   "execution_count": 50,
   "id": "f34ec2af-7409-4318-a458-181b77d74112",
   "metadata": {},
   "outputs": [
    {
     "name": "stdout",
     "output_type": "stream",
     "text": [
      "[('D', 70), ('A', 67), ('C', 69)]\n"
     ]
    }
   ],
   "source": [
    "# 41. Write a Python program to Filter Tuples by Kth element from List\n",
    "t = [ ('B', 68), ('D', 70), ('A', 67), ('C', 69) ] \n",
    "fl= [67 , 70 , 71, 75, 69]\n",
    "k= 1\n",
    "s = [i for i in t if i[k] in fl]\n",
    "print(s)"
   ]
  },
  {
   "cell_type": "code",
   "execution_count": 57,
   "id": "76606166-8230-4546-99a5-0298df6607ef",
   "metadata": {},
   "outputs": [
    {
     "name": "stdout",
     "output_type": "stream",
     "text": [
      "(2, 3)\n"
     ]
    }
   ],
   "source": [
    "# 42. Write a Python program to Closest Pair to Kth index element in Tuple\n",
    "t = [ (23, 18), (9, 2), (2, 3), (9, 18), (23, 2) ]\n",
    "g = (5,10)\n",
    "k = 1\n",
    "c = min(t, key=lambda i: abs(i[k] - g[k]))\n",
    "print(c)"
   ]
  },
  {
   "cell_type": "code",
   "execution_count": 60,
   "id": "4a8a2001-7c9f-44e7-8556-368472e08160",
   "metadata": {},
   "outputs": [
    {
     "name": "stdout",
     "output_type": "stream",
     "text": [
      "[(3, 4), (5, 6), (4, 5)]\n"
     ]
    }
   ],
   "source": [
    "# 43. Write a Python program to Tuple List intersection (Order irrespective)\n",
    "l1=[ (3, 4), (5, 6), (9, 10), (4, 5) ] \n",
    "l2=[ (5, 4), (3, 4), (6, 5), (9, 11) ]\n",
    "intersection = [t for t in l1 if set(t) in [set(x) for x in l2]]\n",
    "print(intersection)"
   ]
  },
  {
   "cell_type": "code",
   "execution_count": 61,
   "id": "eb5a6065-160c-486c-bd26-12a3e890cb9e",
   "metadata": {},
   "outputs": [
    {
     "name": "stdout",
     "output_type": "stream",
     "text": [
      "[('A', 65), ('D', 68)]\n"
     ]
    }
   ],
   "source": [
    "# 44. Write a Python program to Intersection in Tuple Records Data\n",
    "l1= [ ('A', 65), ('D', 68), ('B', 66) ]\n",
    "l2=  [ ('D', 68), ('C', 67), ('A', 65) ]\n",
    "intersection = [t for t in l1 if set(t) in [set(x) for x in l2]]\n",
    "print(intersection)"
   ]
  },
  {
   "cell_type": "code",
   "execution_count": 62,
   "id": "45a049f0-8ffd-418b-aced-6f98bcc1a37f",
   "metadata": {},
   "outputs": [
    {
     "name": "stdout",
     "output_type": "stream",
     "text": [
      "3\n"
     ]
    }
   ],
   "source": [
    "# 45. Write a Python program to Unique Tuple Frequency (Order Irrespective)\n",
    "l = [ (3, 4), (1, 2), (4, 3), (5, 6) ]\n",
    "f=  {frozenset(t) for t in l}\n",
    "u = [tuple(sorted(t)) for t in f]\n",
    "c = len(u)\n",
    "print(c)"
   ]
  },
  {
   "cell_type": "code",
   "execution_count": 64,
   "id": "ae461f72-4951-4007-b6d0-608680623198",
   "metadata": {},
   "outputs": [
    {
     "name": "stdout",
     "output_type": "stream",
     "text": [
      "15\n"
     ]
    }
   ],
   "source": [
    "# 46. Write a Python program to Skew Nested Tuple Summation\n",
    "t = (1, (2, (3, (4, (5, None)))))\n",
    "s = 0\n",
    "c = t\n",
    "while c is not None:\n",
    "    s += c[0]\n",
    "    c = c[1]\n",
    "print(s)"
   ]
  },
  {
   "cell_type": "code",
   "execution_count": 66,
   "id": "8a27c86c-4e43-4a6d-b698-285d4ee929be",
   "metadata": {},
   "outputs": [
    {
     "name": "stdout",
     "output_type": "stream",
     "text": [
      "10\n"
     ]
    }
   ],
   "source": [
    "# 47. Write a Python program to Convert Binary tuple to Integer\n",
    "t = (1, 0, 1, 0)\n",
    "b = ''.join(str(b) for b in t)\n",
    "d = int(b,2)\n",
    "print(d)"
   ]
  },
  {
   "cell_type": "code",
   "execution_count": 68,
   "id": "1f329d55-94cf-414b-8d68-91a448847864",
   "metadata": {},
   "outputs": [
    {
     "name": "stdout",
     "output_type": "stream",
     "text": [
      "(15, 6, 5, 10)\n"
     ]
    }
   ],
   "source": [
    "# 48. Write a Python program to Tuple XOR operation\n",
    "t1=  (10, 4, 6, 9)\n",
    "t2= (5, 2, 3, 3)\n",
    "t = tuple(a ^ b for a,b in zip(t1,t2))\n",
    "print(t)"
   ]
  },
  {
   "cell_type": "code",
   "execution_count": 70,
   "id": "a80d89b0-1f31-4cdf-aeed-b2574b419f4a",
   "metadata": {},
   "outputs": [
    {
     "name": "stdout",
     "output_type": "stream",
     "text": [
      "(0, 0, 2, 1)\n"
     ]
    }
   ],
   "source": [
    "# 49. Write a Python program to AND operation between Tuples\n",
    "t1=  (10, 4, 6, 9)\n",
    "t2= (5, 2, 3, 3)\n",
    "t = tuple(a & b for a,b in zip(t1,t2))\n",
    "print(t)"
   ]
  },
  {
   "cell_type": "code",
   "execution_count": 71,
   "id": "d96162da-816e-423d-87d4-0db658326f5e",
   "metadata": {},
   "outputs": [
    {
     "name": "stdout",
     "output_type": "stream",
     "text": [
      "(0, 0, 2, 1)\n"
     ]
    }
   ],
   "source": [
    "# 50. Write a Python program to Elementwise AND in tuples\n",
    "t1=  (10, 4, 6, 9)\n",
    "t2= (5, 2, 3, 3)\n",
    "t = tuple(a & b for a,b in zip(t1,t2))\n",
    "print(t)"
   ]
  }
 ],
 "metadata": {
  "kernelspec": {
   "display_name": "Python 3 (ipykernel)",
   "language": "python",
   "name": "python3"
  },
  "language_info": {
   "codemirror_mode": {
    "name": "ipython",
    "version": 3
   },
   "file_extension": ".py",
   "mimetype": "text/x-python",
   "name": "python",
   "nbconvert_exporter": "python",
   "pygments_lexer": "ipython3",
   "version": "3.11.5"
  }
 },
 "nbformat": 4,
 "nbformat_minor": 5
}

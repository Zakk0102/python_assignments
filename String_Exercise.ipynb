{
 "cells": [
  {
   "cell_type": "code",
   "execution_count": 1,
   "id": "f7dd3b88-9fc3-476b-a768-90b04d3e367c",
   "metadata": {},
   "outputs": [
    {
     "name": "stdout",
     "output_type": "stream",
     "text": [
      "Length of given string= 10\n"
     ]
    }
   ],
   "source": [
    "# Ta calculate length of string\n",
    "st = \"Tutor Joes\"\n",
    "l = len(st)\n",
    "print(f\"Length of given string= {l}\")"
   ]
  },
  {
   "cell_type": "code",
   "execution_count": 19,
   "id": "70e121dc-ea51-4c29-b202-bbfd623b8dec",
   "metadata": {},
   "outputs": [
    {
     "name": "stdout",
     "output_type": "stream",
     "text": [
      "{'e': 1, ' ': 1, 'n': 1, 'p': 1, 'T': 1, 't': 1, 'M': 1, 'r': 1, 'o': 2}\n"
     ]
    }
   ],
   "source": [
    "# To calculate chracter frequency in string\n",
    "a = \"Top Mentor\"\n",
    "c= set(a)\n",
    "freq = {}\n",
    "for i in c:\n",
    "    freq[i] = a.count(i)   \n",
    "print(freq)"
   ]
  },
  {
   "cell_type": "code",
   "execution_count": 27,
   "id": "2f4cf6ee-4d35-4293-9aca-d880566bd34b",
   "metadata": {},
   "outputs": [
    {
     "name": "stdout",
     "output_type": "stream",
     "text": [
      "reta@t\n"
     ]
    }
   ],
   "source": [
    "# To get a string from a given string where all occurrences of its first char have been changed to @\n",
    "s = \"Retart\"\n",
    "l= s.lower()\n",
    "a = l[0]\n",
    "b = a + l[1:].replace(a, '@')\n",
    "print(b)"
   ]
  },
  {
   "cell_type": "code",
   "execution_count": 35,
   "id": "5e29dfdc-431b-451c-bc18-67d986c84325",
   "metadata": {},
   "outputs": [
    {
     "name": "stdout",
     "output_type": "stream",
     "text": [
      "xyc abz\n"
     ]
    }
   ],
   "source": [
    "# Program to get single string from two given strings, seperated by a space, and swap the first two characters of each string\n",
    "s1 = \"abc\"\n",
    "s2= \"xyz\"\n",
    "n_s1 = s2[:2] + s1[2:]\n",
    "n_s2 = s1[:2] + s2[2:]\n",
    "s = n_s1 + \" \" + n_s2\n",
    "print(s)"
   ]
  },
  {
   "cell_type": "code",
   "execution_count": 45,
   "id": "59bc99a4-25bd-4a7c-b77d-361c0ab1f6d3",
   "metadata": {},
   "outputs": [
    {
     "name": "stdout",
     "output_type": "stream",
     "text": [
      "Hello World\n"
     ]
    },
    {
     "name": "stdin",
     "output_type": "stream",
     "text": [
      "Index 2\n"
     ]
    },
    {
     "name": "stdout",
     "output_type": "stream",
     "text": [
      "Helo World\n"
     ]
    }
   ],
   "source": [
    "# program to remove the nth index character from a non-empty string.\n",
    "\n",
    "s= \"Hello World\"\n",
    "print(s)\n",
    "n= int(input(\"Index\"))\n",
    "n_s = s[:n] + s[n +1 :]\n",
    "print(n_s)\n",
    "\n"
   ]
  },
  {
   "cell_type": "code",
   "execution_count": 60,
   "id": "a5dd426d-8525-48bc-af72-59b6ad5ba85e",
   "metadata": {},
   "outputs": [
    {
     "name": "stdout",
     "output_type": "stream",
     "text": [
      "eata SciencD\n"
     ]
    }
   ],
   "source": [
    "# Python program to change a given string to a new string where the first and last chars have been exchanged\n",
    "s = \"Data Science\"\n",
    "l = len(s)\n",
    "f_c = s[:1]\n",
    "l_c = s[l-1:]\n",
    "n_s = l_c + s[1:l-1] + f_c\n",
    "print(n_s)"
   ]
  },
  {
   "cell_type": "code",
   "execution_count": 67,
   "id": "435c8593-37ad-41f5-9c54-dbb72ea533c2",
   "metadata": {},
   "outputs": [
    {
     "name": "stdout",
     "output_type": "stream",
     "text": [
      "Dt cec\n"
     ]
    }
   ],
   "source": [
    "# Python program to remove the characters which have odd index values of a given string\n",
    "s = \"Data Science\"\n",
    "a = s[::2]\n",
    "print(a)"
   ]
  },
  {
   "cell_type": "code",
   "execution_count": 71,
   "id": "b2c6f035-1cf6-4fac-9f5d-4b4b2bf02dc9",
   "metadata": {},
   "outputs": [
    {
     "name": "stdout",
     "output_type": "stream",
     "text": [
      "{'Hello': 4, 'World': 3}\n"
     ]
    }
   ],
   "source": [
    "s = \"Hello World Hello World Hello World Hello\"\n",
    "a = s.split()\n",
    "freq={}\n",
    "for i in a:\n",
    "    freq[i] = a.count(i)\n",
    "print(freq)"
   ]
  },
  {
   "cell_type": "code",
   "execution_count": 72,
   "id": "3cfad01d-4eb3-4c65-8353-57d1ab74ef5a",
   "metadata": {},
   "outputs": [
    {
     "name": "stdin",
     "output_type": "stream",
     "text": [
      "Provide the string:  Data Science\n"
     ]
    },
    {
     "name": "stdout",
     "output_type": "stream",
     "text": [
      "LowerCase= data science\n",
      "UpperCase= DATA SCIENCE\n"
     ]
    }
   ],
   "source": [
    "# Python script that takes input from the user and displays that input back in upper and lower cases.\n",
    "text= input(\"Provide the string: \")\n",
    "l = text.lower()\n",
    "u = text.upper()\n",
    "print(f\"LowerCase= {l}\")\n",
    "print(f\"UpperCase= {u}\")"
   ]
  },
  {
   "cell_type": "code",
   "execution_count": 81,
   "id": "0cb4bd5e-bd07-4583-acd9-50f997ba32f4",
   "metadata": {},
   "outputs": [
    {
     "name": "stdin",
     "output_type": "stream",
     "text": [
      "Provide the string:  Data\n"
     ]
    },
    {
     "name": "stdout",
     "output_type": "stream",
     "text": [
      "ataD\n"
     ]
    }
   ],
   "source": [
    "# Python function to reverses a string if its length is a multiple of 4.\n",
    "text= input(\"Provide the string: \")\n",
    "l = len(text)\n",
    "if l% 4 ==0:\n",
    "    t = text[::-1]\n",
    "    print(t)\n",
    "else:\n",
    "    print(text)"
   ]
  },
  {
   "cell_type": "code",
   "execution_count": 90,
   "id": "127fa08f-e4d1-4f15-932d-17af4188fa41",
   "metadata": {},
   "outputs": [
    {
     "name": "stdin",
     "output_type": "stream",
     "text": [
      "Provide the string:  daTA Science\n"
     ]
    },
    {
     "name": "stdout",
     "output_type": "stream",
     "text": [
      "DATA SCIENCE\n"
     ]
    }
   ],
   "source": [
    "# Python function to convert a given string to all uppercase if it contains at least 2 uppercase characters in the first 4 characters.\n",
    "text= input(\"Provide the string: \")\n",
    "u = sum(1 for i in text[:4] if i.isupper() )\n",
    "if  u >= 2:\n",
    "    print(text.upper())\n",
    "else:\n",
    "    print(text)\n"
   ]
  },
  {
   "cell_type": "code",
   "execution_count": 94,
   "id": "5f81a96c-95fa-4c55-8956-8df554d896af",
   "metadata": {},
   "outputs": [
    {
     "name": "stdin",
     "output_type": "stream",
     "text": [
      "Provide the string:  Data scinece\n"
     ]
    },
    {
     "name": "stdout",
     "output_type": "stream",
     "text": [
      "[' ', 'D', 'a', 'a', 'c', 'c', 'e', 'e', 'i', 'n', 's', 't']\n"
     ]
    }
   ],
   "source": [
    "#  Python program to sort a string lexicographically.\n",
    "text= input(\"Provide the string: \")\n",
    "s = list(text)\n",
    "s.sort()\n",
    "print(s)"
   ]
  },
  {
   "cell_type": "code",
   "execution_count": 97,
   "id": "cdd3f5b0-0ee2-4e77-9607-9d892d46d2a2",
   "metadata": {},
   "outputs": [
    {
     "name": "stdout",
     "output_type": "stream",
     "text": [
      "Tutor  Joes  Computer  Education\n"
     ]
    }
   ],
   "source": [
    "# Python program to remove a newline in Python.\n",
    "text=  \"\\nTutor \\nJoes \\nComputer \\nEducation\\n\"\n",
    "s = text.replace(\"\\n\", \" \").strip()\n",
    "print(s)\n"
   ]
  },
  {
   "cell_type": "code",
   "execution_count": 4,
   "id": "ff4cffea-a0d5-4f21-8adf-b8000f3162bc",
   "metadata": {},
   "outputs": [
    {
     "name": "stdin",
     "output_type": "stream",
     "text": [
      "Provide the string:  TUnn\n"
     ]
    },
    {
     "name": "stdout",
     "output_type": "stream",
     "text": [
      "True\n"
     ]
    }
   ],
   "source": [
    "# Python program to check whether a string starts with specified characters. \n",
    "text= input(\"Provide the string: \")\n",
    "if text[:2].lower() == \"tu\"  :\n",
    "    print(True)\n",
    "else:\n",
    "   print(False)"
   ]
  },
  {
   "cell_type": "code",
   "execution_count": 8,
   "id": "f6b94a2d-8c75-4956-a878-f8e2e8352309",
   "metadata": {},
   "outputs": [
    {
     "name": "stdout",
     "output_type": "stream",
     "text": [
      "text_35: Python is an interpreted, object-\n",
      "oriented, high-level programming\n",
      "language  that can be used for a\n",
      "wide variety of applications.\n",
      "Python is a powerful  general-\n",
      "purpose programming language.\n",
      "\n",
      "text_70: Python is an interpreted, object-oriented, high-level programming\n",
      "language  that can be used for a wide variety of applications. Python\n",
      "is a powerful  general-purpose programming language.\n"
     ]
    }
   ],
   "source": [
    "# Python program to display formatted text (width=35,70) as output. \n",
    "import textwrap\n",
    "text= \"\"\"Python is an interpreted, object-oriented, high-level programming language \n",
    "that can be used for a wide variety of applications. Python is a powerful \n",
    "general-purpose programming language.\"\"\"\n",
    "text_35= textwrap.fill(text,35)\n",
    "text_70= textwrap.fill(text,70)\n",
    "print(f\"text_35: {text_35}\\n\")\n",
    "print(f\"text_70: {text_70}\")"
   ]
  },
  {
   "cell_type": "code",
   "execution_count": 18,
   "id": "e0648571-01f4-41db-93f0-ee2c0dbe5633",
   "metadata": {},
   "outputs": [
    {
     "name": "stdout",
     "output_type": "stream",
     "text": [
      "Python is an interpreted, object-oriented, high-level programming language \n",
      "that can be used for a wide variety of applications. Python is a powerful \n",
      "general-purpose programming language.\n"
     ]
    }
   ],
   "source": [
    "#Python program to remove existing indentation from all of the lines in a given text. \n",
    "import textwrap\n",
    "\n",
    "text= \"\"\"  \n",
    "            Python is an interpreted, object-oriented, high-level programming language \n",
    "            that can be used for a wide variety of applications. Python is a powerful \n",
    "            general-purpose programming language.\n",
    "       \"\"\"\n",
    "n_text = textwrap.dedent(text).strip()\n",
    "print(n_text)"
   ]
  },
  {
   "cell_type": "code",
   "execution_count": 24,
   "id": "c6ccf9f1-913e-4c48-9515-45974ef37623",
   "metadata": {},
   "outputs": [
    {
     "name": "stdout",
     "output_type": "stream",
     "text": [
      "*  Python is an interpreted, object-oriented, high-level programming language \n",
      "* that can be used for a wide variety of applications. Python is a powerful \n",
      "* general-purpose programming language. \n"
     ]
    }
   ],
   "source": [
    "# Python program to add a prefix text to all of the lines in a string.\n",
    "text= \"\"\" Python is an interpreted, object-oriented, high-level programming language \n",
    "that can be used for a wide variety of applications. Python is a powerful \n",
    "general-purpose programming language. \"\"\"\n",
    "lines= text.splitlines()\n",
    "n_line = [\"*\" + \" \" + line for line in lines]\n",
    "print(\"\\n\".join(n_line))"
   ]
  }
 ],
 "metadata": {
  "kernelspec": {
   "display_name": "Python 3 (ipykernel)",
   "language": "python",
   "name": "python3"
  },
  "language_info": {
   "codemirror_mode": {
    "name": "ipython",
    "version": 3
   },
   "file_extension": ".py",
   "mimetype": "text/x-python",
   "name": "python",
   "nbconvert_exporter": "python",
   "pygments_lexer": "ipython3",
   "version": "3.11.5"
  }
 },
 "nbformat": 4,
 "nbformat_minor": 5
}

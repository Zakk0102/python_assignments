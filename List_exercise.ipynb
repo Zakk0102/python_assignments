{
 "cells": [
  {
   "cell_type": "markdown",
   "id": "e8c1079e-a7a8-4a05-b31f-8ebcea96e743",
   "metadata": {},
   "source": [
    "#### List Exercise"
   ]
  },
  {
   "cell_type": "code",
   "execution_count": 2,
   "id": "e6bc9bbb-bd0a-4ed7-a5c8-dfd7c5bb2d88",
   "metadata": {},
   "outputs": [
    {
     "data": {
      "text/plain": [
       "26"
      ]
     },
     "execution_count": 2,
     "metadata": {},
     "output_type": "execute_result"
    }
   ],
   "source": [
    "# 1.Write a Python program to sum all the items \n",
    "a = [1,7,-10,34,2,-8] \n",
    "sum(a)"
   ]
  },
  {
   "cell_type": "code",
   "execution_count": 5,
   "id": "5b909315-35b6-4019-96af-d0a4d21949b2",
   "metadata": {},
   "outputs": [
    {
     "name": "stdout",
     "output_type": "stream",
     "text": [
      "1680\n"
     ]
    }
   ],
   "source": [
    "# 2. Write a Python program to multiply all the items in a list \n",
    "b = [3,4,5,4,7] \n",
    "m= 1\n",
    "for i in b:\n",
    "    m*=i\n",
    "print(m)"
   ]
  },
  {
   "cell_type": "code",
   "execution_count": 6,
   "id": "1aee36ca-3158-48dd-9435-6823ca76377b",
   "metadata": {},
   "outputs": [
    {
     "data": {
      "text/plain": [
       "34"
      ]
     },
     "execution_count": 6,
     "metadata": {},
     "output_type": "execute_result"
    }
   ],
   "source": [
    "# 3. Write a Python program to get the largest number from a list\n",
    "c = [1,7,10,34,2,8] \n",
    "max(c)"
   ]
  },
  {
   "cell_type": "code",
   "execution_count": 7,
   "id": "09fef8e1-93f3-4c43-88ad-52d179f577df",
   "metadata": {},
   "outputs": [
    {
     "data": {
      "text/plain": [
       "2"
      ]
     },
     "execution_count": 7,
     "metadata": {},
     "output_type": "execute_result"
    }
   ],
   "source": [
    "# 4. Write a Python program to get the smallest number from a list\n",
    "d = [51,7,10,34,2,8] \n",
    "min(d)"
   ]
  },
  {
   "cell_type": "code",
   "execution_count": 10,
   "id": "905ae95d-2b6f-4ef2-abe2-020f5288b2ef",
   "metadata": {},
   "outputs": [
    {
     "name": "stdout",
     "output_type": "stream",
     "text": [
      "2\n"
     ]
    }
   ],
   "source": [
    "# 5. Write a Python program to count the number of strings where the string length is 2 or more and the first and last character are same from a given list of strings \n",
    "e =['abc', 'xyz', 'aba', '1221']\n",
    "coun= 0\n",
    "for i in e:\n",
    "    if len(i)>=2 and i[0] == i[-1]:\n",
    "        coun +=1\n",
    "print(coun)"
   ]
  },
  {
   "cell_type": "code",
   "execution_count": 11,
   "id": "5603921f-62b5-4f37-9484-e9ae83d2eda8",
   "metadata": {},
   "outputs": [
    {
     "data": {
      "text/plain": [
       "{1, 2, 3, 4, 5, 6, 7, 8}"
      ]
     },
     "execution_count": 11,
     "metadata": {},
     "output_type": "execute_result"
    }
   ],
   "source": [
    "# 6. Write a Python program to remove duplicates from a list \n",
    "f = [1,2,3,7,2,1,5,6,4,8,5,4]\n",
    "set(f)"
   ]
  },
  {
   "cell_type": "code",
   "execution_count": 18,
   "id": "ab2b94ec-6157-4c6e-b902-2362065300c8",
   "metadata": {},
   "outputs": [
    {
     "name": "stdout",
     "output_type": "stream",
     "text": [
      "List is Not Empty\n"
     ]
    }
   ],
   "source": [
    "# 7. Write a Python program to check a list is empty or not\n",
    "g = [34,45,6,5,4,56,7]\n",
    "if len(g) != 0:\n",
    "    print(\"List is Not Empty\")\n",
    "else:\n",
    "    print(\"List is empty\")"
   ]
  },
  {
   "cell_type": "code",
   "execution_count": 20,
   "id": "1b351bca-6e29-43e2-8af6-65edddc5dd14",
   "metadata": {},
   "outputs": [
    {
     "name": "stdout",
     "output_type": "stream",
     "text": [
      "Clone or Copy a List : [10, 22, 44, 23, 4]\n"
     ]
    }
   ],
   "source": [
    "# 8. Write a Python program to clone or copy a list\n",
    "h =[10, 22, 44, 23, 4]\n",
    "m = h.copy()\n",
    "print(f\"Clone or Copy a List : {m}\")"
   ]
  },
  {
   "cell_type": "code",
   "execution_count": 27,
   "id": "136625eb-8207-474d-b79c-2ec97b140dbb",
   "metadata": {},
   "outputs": [
    {
     "name": "stdin",
     "output_type": "stream",
     "text": [
      "Enter the value of 'n': 5\n"
     ]
    },
    {
     "name": "stdout",
     "output_type": "stream",
     "text": [
      "Longer\n"
     ]
    }
   ],
   "source": [
    "# 9. Write a Python program to find the list of words that are longer than n from a given list of words \n",
    "n = int(input(\"Enter the value of 'n':\"))\n",
    "lst= ['Words', 'Longer', 'given', 'Words']\n",
    "for i in lst:\n",
    "    if len(i) > n:\n",
    "        print(i)\n",
    "        "
   ]
  },
  {
   "cell_type": "code",
   "execution_count": 31,
   "id": "eea4fe40-4ff4-480b-b9b6-02a710f18373",
   "metadata": {},
   "outputs": [
    {
     "name": "stdin",
     "output_type": "stream",
     "text": [
      "Enter the number for list 1: 3\n",
      " 26\n",
      " 25\n",
      " 45\n"
     ]
    },
    {
     "name": "stdout",
     "output_type": "stream",
     "text": [
      "List1:[26, 25, 45]\n"
     ]
    },
    {
     "name": "stdin",
     "output_type": "stream",
     "text": [
      "Enter the number for list 2: 4\n",
      " 26\n",
      " 45\n",
      " 48\n",
      " 24\n"
     ]
    },
    {
     "name": "stdout",
     "output_type": "stream",
     "text": [
      "List2:[26, 45, 48, 24]\n",
      "List have 2 common members\n"
     ]
    }
   ],
   "source": [
    "# 10. Write a Program that get two lists as input and check if they have at least one common member \n",
    "l1= []\n",
    "l2= []\n",
    "count=0\n",
    "n = int(input(\"Enter the number for list 1:\"))\n",
    "for item in range(1,n+1):\n",
    "    num= int(input())\n",
    "    l1.append(num)\n",
    "print(f\"List1:{l1}\")    \n",
    "m = int(input(\"Enter the number for list 2:\"))\n",
    "for item in range(1,m+1):\n",
    "    num1= int(input())\n",
    "    l2.append(num1)\n",
    "print(f\"List2:{l2}\")\n",
    "for i in l1:\n",
    "    if i in l2:\n",
    "        count+=1;\n",
    "print(f\"List have {count} common members\")"
   ]
  },
  {
   "cell_type": "code",
   "execution_count": 38,
   "id": "bc23cb7a-5678-432c-8798-641deb684635",
   "metadata": {},
   "outputs": [
    {
     "name": "stdout",
     "output_type": "stream",
     "text": [
      "['Dog', 'Elephant', 'Fox', 'Ponda']\n"
     ]
    }
   ],
   "source": [
    "# 11. Write a Python program to print a specified list after removing the 0th, 4th and 5th elements. (enumerate)\n",
    "lst= [\"Cat\", \"Dog\", \"Elephant\", \"Fox\", \"Tiger\", \"Lion\", \"Ponda\"]\n",
    "lst.pop(5)\n",
    "lst.pop(4)\n",
    "lst.pop(0)\n",
    "print(lst)"
   ]
  },
  {
   "cell_type": "code",
   "execution_count": 44,
   "id": "9f645db2-2b0c-4c0e-acfa-55188d93c7d6",
   "metadata": {},
   "outputs": [
    {
     "name": "stdout",
     "output_type": "stream",
     "text": [
      "[7, 81, 25, 23, 27]\n"
     ]
    }
   ],
   "source": [
    "# 12. Write a Python program to print the numbers of a specified list after removing even numbers from it \n",
    "lst = [7,32,81,20,25,14,23,27]\n",
    "z =[num for num in lst if num %2!=0]\n",
    "print(z)"
   ]
  },
  {
   "cell_type": "code",
   "execution_count": 52,
   "id": "c1a7af0e-8cb6-43d8-9304-a5360a0a676f",
   "metadata": {},
   "outputs": [
    {
     "name": "stdout",
     "output_type": "stream",
     "text": [
      "['Lion', 'Tiger', 'Panda', 'Elephant', 'Fox', 'Dog', 'Cat']\n"
     ]
    }
   ],
   "source": [
    "# 13. Write a Python program to shuffle and print a specified list (shuffle)\n",
    "import random\n",
    "lst = [\"Cat\", \"Dog\", \"Elephant\", \"Fox\", \"Tiger\", \"Lion\", \"Panda\"]\n",
    "random.shuffle(lst)\n",
    "print(lst)"
   ]
  },
  {
   "cell_type": "code",
   "execution_count": 5,
   "id": "efe88fc9-e174-4b12-952d-fceaa13c789f",
   "metadata": {},
   "outputs": [
    {
     "name": "stdout",
     "output_type": "stream",
     "text": [
      "First 5 elements: [1, 4, 9, 16, 25]\n",
      "Last 5 elements: [625, 676, 729, 784, 841]\n"
     ]
    }
   ],
   "source": [
    "# 14. Write a Python program to generate and print a list of first and last 5 elements where the values are square of numbers between 1 and 30 \n",
    "sq = [x**2 for x in range(1,30)]\n",
    "first= sq[:5]\n",
    "last= sq[-5:]\n",
    "print(f\"First 5 elements: {first}\")\n",
    "print(f\"Last 5 elements: {last}\")"
   ]
  },
  {
   "cell_type": "code",
   "execution_count": 7,
   "id": "d9d4f03c-fb5f-4351-9421-b151e8045c17",
   "metadata": {},
   "outputs": [
    {
     "name": "stdout",
     "output_type": "stream",
     "text": [
      "[(1, 2, 3), (1, 3, 2), (2, 1, 3), (2, 3, 1), (3, 1, 2), (3, 2, 1)]\n"
     ]
    }
   ],
   "source": [
    "# 15. Write a Python program to generate all permutations of a list in Python. (itertools)\n",
    "import itertools\n",
    "l = [1,2,3]\n",
    "permutations = list(itertools.permutations(l))\n",
    "print(permutations)"
   ]
  },
  {
   "cell_type": "code",
   "execution_count": 11,
   "id": "e737bf83-ecda-488a-91a3-14ed558a36be",
   "metadata": {},
   "outputs": [
    {
     "name": "stdout",
     "output_type": "stream",
     "text": [
      "Tutor Joes\n"
     ]
    }
   ],
   "source": [
    "# 16. Write a Python program to convert a list of characters into a string\n",
    "l= ['T','u','t','o','r',' ','J','o','e','s']\n",
    "m = ''.join(l)\n",
    "print(m)"
   ]
  },
  {
   "cell_type": "code",
   "execution_count": 13,
   "id": "ffdefa22-b1e8-4c22-8870-9ec2507ae15a",
   "metadata": {},
   "outputs": [
    {
     "name": "stdin",
     "output_type": "stream",
     "text": [
      "Item to find the index of:  70\n"
     ]
    },
    {
     "name": "stdout",
     "output_type": "stream",
     "text": [
      "1\n"
     ]
    }
   ],
   "source": [
    "# 17. Write a Python program to find the index of an item in a specified list\n",
    "l= [20, 70, 30, 90, 10, 30, 90, 10, 80] \n",
    "n = int(input(\"Item to find the index of: \"))\n",
    "ind= l.index(n)\n",
    "print(ind)"
   ]
  },
  {
   "cell_type": "code",
   "execution_count": 18,
   "id": "a8f882da-5db5-41ff-bdc4-44b637a7abfa",
   "metadata": {},
   "outputs": [
    {
     "name": "stdout",
     "output_type": "stream",
     "text": [
      "[20, 30, 70, 30, 90, 10, 30, 20, 70, 90, 10, 80]\n"
     ]
    }
   ],
   "source": [
    "# 18. Write a Python program to flatten a shallow list \n",
    "import itertools\n",
    "l=[[20,30,70],[30,90,10], [30,20], [70,90,10,80]]\n",
    "flat= list(itertools.chain(*l))\n",
    "print(flat)"
   ]
  },
  {
   "cell_type": "code",
   "execution_count": 15,
   "id": "90bf4106-6a96-45af-b678-23c54742736f",
   "metadata": {},
   "outputs": [
    {
     "name": "stdout",
     "output_type": "stream",
     "text": [
      "[10, 20, 30, 40, 'Cat', 'Dog', 'Lion', 'Ponda']\n"
     ]
    }
   ],
   "source": [
    "# 19. Write a Python program to add a list to the second list\n",
    "l1= [10, 20, 30, 40] \n",
    "l2= [\"Cat\", \"Dog\", \"Lion\", \"Ponda\"]\n",
    "l = l1 + l2\n",
    "print(l)"
   ]
  },
  {
   "cell_type": "code",
   "execution_count": 25,
   "id": "7bdff604-2ab9-4989-8fee-c62c31814598",
   "metadata": {},
   "outputs": [
    {
     "name": "stdout",
     "output_type": "stream",
     "text": [
      "Item randomly from a list : Elephant\n"
     ]
    }
   ],
   "source": [
    "# 20. Write a Python program to select an item randomly from a list Using random.choice()\n",
    "import random\n",
    "l = [\"Cat\", \"Dog\", \"Elephant\", \"Fox\", \"Tiger\", \"Lion\", \"Ponda\"]\n",
    "i = random.choice(l)\n",
    "print(f\"Item randomly from a list : {i}\")"
   ]
  },
  {
   "cell_type": "code",
   "execution_count": 36,
   "id": "f4620cb9-c7c5-4b7c-a100-80c1979ac9d6",
   "metadata": {},
   "outputs": [
    {
     "name": "stdout",
     "output_type": "stream",
     "text": [
      "Compare List1 and List2: True\n",
      "Compare List1 and List3: False\n"
     ]
    }
   ],
   "source": [
    "# 21. Write a python program to check whether two lists are circularly identical\n",
    "l1 = [8, 8, 12, 12, 8] \n",
    "l2 = [8, 8, 8, 12, 12] \n",
    "l3 = [1, 8, 8, 12, 12] \n",
    "\n",
    "l = l1 + l1\n",
    "\n",
    "cl1 = any(l2 == l[i:i+len(l2)] for i in range(len(l1)))\n",
    "if cl1:\n",
    "    print(\"Compare List1 and List2: True\")\n",
    "else:\n",
    "    print(\"Compare List1 and List2: False\")\n",
    "cl2 = any(l3 == l[i:i+len(l3)] for i in range(len(l1)))\n",
    "if cl2:\n",
    "    print(\"Compare List1 and List3: True\")\n",
    "else:\n",
    "    print(\"Compare List1 and List3: False\")\n"
   ]
  },
  {
   "cell_type": "code",
   "execution_count": 51,
   "id": "bcde86f0-ac06-47c8-8a1f-5c86c52636a8",
   "metadata": {},
   "outputs": [
    {
     "name": "stdout",
     "output_type": "stream",
     "text": [
      "Second Smallest Number : 4\n"
     ]
    }
   ],
   "source": [
    "# 22. Write a Python program to find the second smallest number in a list\n",
    "l= [2,4,56,78,4,34,5,8,9] \n",
    "s = list(set(l))\n",
    "s.sort()\n",
    "print(f\"Second Smallest Number : {s[1]}\")"
   ]
  },
  {
   "cell_type": "code",
   "execution_count": 53,
   "id": "458c9a14-025d-4e58-be63-bb188bb154bc",
   "metadata": {},
   "outputs": [
    {
     "name": "stdout",
     "output_type": "stream",
     "text": [
      "Second Largest Number : 82\n"
     ]
    }
   ],
   "source": [
    "# 23. Write a Python program to find the second largest number in a list\n",
    "l= [82,4,56,78,4,34,5,100,9]\n",
    "s = list(set(l))\n",
    "s.sort()\n",
    "print(f\"Second Largest Number : {s[-2]}\")"
   ]
  },
  {
   "cell_type": "code",
   "execution_count": 54,
   "id": "9703448d-26a9-4492-ae98-8bebdd794bf4",
   "metadata": {},
   "outputs": [
    {
     "name": "stdout",
     "output_type": "stream",
     "text": [
      "[34, 4, 5, 9, 10, 78, 82, 56]\n"
     ]
    }
   ],
   "source": [
    "# 24. Write a Python program to get unique values from a list\n",
    "l= [82, 4, 10, 56, 78, 4, 34, 5, 10, 9] \n",
    "s = list(set(l))\n",
    "print(s)"
   ]
  },
  {
   "cell_type": "code",
   "execution_count": 57,
   "id": "7b824123-2a64-41aa-8f14-60c3f8343066",
   "metadata": {},
   "outputs": [
    {
     "name": "stdout",
     "output_type": "stream",
     "text": [
      "Element: 10, Frequency: 2\n",
      "Element: 30, Frequency: 2\n",
      "Element: 50, Frequency: 3\n",
      "Element: 20, Frequency: 2\n",
      "Element: 60, Frequency: 2\n",
      "Element: 40, Frequency: 2\n"
     ]
    }
   ],
   "source": [
    "# 25. Write a Python program to get the frequency of the elements in a list.\n",
    "from collections import Counter\n",
    "l = [10, 30, 50, 10, 20, 60, 20, 60, 40, 40, 50, 50, 30] \n",
    "f = Counter(l)\n",
    "for i, c in f.items():\n",
    "     print(f\"Element: {i}, Frequency: {c}\")"
   ]
  },
  {
   "cell_type": "code",
   "execution_count": 59,
   "id": "8a9768bb-e4b7-4a94-a261-1b9a1695d89c",
   "metadata": {},
   "outputs": [
    {
     "name": "stdin",
     "output_type": "stream",
     "text": [
      "Enter the number: 5\n"
     ]
    },
    {
     "name": "stdout",
     "output_type": "stream",
     "text": [
      "['T1', 'J1', 'T2', 'J2', 'T3', 'J3', 'T4', 'J4', 'T5', 'J5']\n"
     ]
    }
   ],
   "source": [
    "# 26. Create a list by concatenating a given list which range goes from 1 to n\n",
    "l= ['T', 'J'] \n",
    "n = int(input(\"Enter the number:\"))\n",
    "c= [f\"{e}{i}\"for i in range(1, n+1) for e in l ]\n",
    "print(c)"
   ]
  },
  {
   "cell_type": "code",
   "execution_count": 70,
   "id": "b5495b27-4c63-4698-abbe-675a836680a3",
   "metadata": {},
   "outputs": [
    {
     "name": "stdout",
     "output_type": "stream",
     "text": [
      "Unique Identification Number for '30' : zula72ov\n",
      "Unique Identification Number for 'Tutor Joes' : exmfufbc\n"
     ]
    }
   ],
   "source": [
    "# 27. Write a Python program to get variable unique identification number or string\n",
    "import random\n",
    "import string\n",
    "x = 30 \n",
    "s = \"Tutor Joes\"\n",
    "a = ''.join(random.choices(string.ascii_lowercase + string.digits, k=8))\n",
    "b = ''.join(random.choices(string.ascii_lowercase + string.digits, k=8))\n",
    "print(f\"Unique Identification Number for '{x}' : {a}\")\n",
    "print(f\"Unique Identification Number for '{s}' : {b}\")"
   ]
  },
  {
   "cell_type": "code",
   "execution_count": 75,
   "id": "151ec3e8-6971-425f-9090-ff483b6b9610",
   "metadata": {},
   "outputs": [
    {
     "name": "stdout",
     "output_type": "stream",
     "text": [
      "Common items from two lists :[89, 34, 67]\n"
     ]
    }
   ],
   "source": [
    "# 28. Write a Python program to find common items from two lists\n",
    "l1= [23,45,67,78,89,34]\n",
    "l2 = [34,89,55,56,39,67]\n",
    "c = set(l1).intersection(set(l2))\n",
    "c_l = list(c)\n",
    "print(f\"Common items from two lists :{c_l}\")"
   ]
  },
  {
   "cell_type": "code",
   "execution_count": 71,
   "id": "f8de62fd-43d3-4915-95f2-979868ce7f92",
   "metadata": {},
   "outputs": [
    {
     "name": "stdout",
     "output_type": "stream",
     "text": [
      "B\n",
      "    bear\n",
      "C\n",
      "    cat\n",
      "    cow\n",
      "D\n",
      "    dog\n",
      "F\n",
      "    Fox\n",
      "L\n",
      "    lion\n",
      "M\n",
      "    mouse\n",
      "    monkey\n",
      "S\n",
      "    Shark\n",
      "    Snake\n",
      "T\n",
      "    tiger\n",
      "    turtle\n"
     ]
    }
   ],
   "source": [
    "# 29. Write a Python program to split a list based on first character of word\n",
    "words= [\"cat\", \"dog\", \"cow\", \"tiger\", \"lion\", \"Fox\", \"Shark\", \"Snake\", \"turtle\", \"mouse\", \"monkey\", \n",
    "\"bear\"]\n",
    "grouped_words = {}\n",
    "\n",
    "for word in words:\n",
    "    first_char = word[0].upper()  \n",
    "    if first_char not in grouped_words:\n",
    "        grouped_words[first_char] = []\n",
    "    grouped_words[first_char].append(word)\n",
    "    \n",
    "for key in sorted(grouped_words.keys()):\n",
    "    print(f\"{key}\")\n",
    "    for word in grouped_words[key]:\n",
    "        print(f\"    {word}\")"
   ]
  },
  {
   "cell_type": "code",
   "execution_count": 77,
   "id": "66774bf1-6061-406c-a8d0-d6163bf2b486",
   "metadata": {},
   "outputs": [
    {
     "name": "stdout",
     "output_type": "stream",
     "text": [
      "[1, 3, 7, 5, 9, 7, 9]\n"
     ]
    }
   ],
   "source": [
    "# 30. Write a Python program to select the odd number of a list\n",
    "l = [1,2,4,3,6,7,5,8,9,7,8,9,10]\n",
    "odd = [x for x in l if x%2 !=0]\n",
    "print(odd)"
   ]
  },
  {
   "cell_type": "code",
   "execution_count": 79,
   "id": "d0b2c029-d295-4d85-8912-888ef9a4cf6b",
   "metadata": {},
   "outputs": [
    {
     "name": "stdout",
     "output_type": "stream",
     "text": [
      " No of Unique Items in List : 6\n"
     ]
    }
   ],
   "source": [
    "# 31. Write a Python Program to count unique values inside a list\n",
    "l = [10, 20, 30, 50, 80, 70, 70, 80, 10]\n",
    "s = set(l)\n",
    "count= len(s)\n",
    "print(f\" No of Unique Items in List : {count}\")"
   ]
  },
  {
   "cell_type": "code",
   "execution_count": 80,
   "id": "88aacad0-df8d-4aed-b070-cfb662e18d49",
   "metadata": {},
   "outputs": [
    {
     "name": "stdout",
     "output_type": "stream",
     "text": [
      "Duplication removal list product : 144\n"
     ]
    }
   ],
   "source": [
    "# 32. Write a Python Program to List product excluding duplicates \n",
    "l = [2, 1, 2, 4, 6, 4, 3, 2, 1]\n",
    "s= list(set(l))\n",
    "m=1\n",
    "for i in s:\n",
    "   m*=i\n",
    "print(f\"Duplication removal list product : {m}\")"
   ]
  },
  {
   "cell_type": "code",
   "execution_count": 84,
   "id": "0464f61b-d0b5-48a4-b373-458e8d08eba7",
   "metadata": {},
   "outputs": [
    {
     "name": "stdin",
     "output_type": "stream",
     "text": [
      "Enter the frequency:  3\n"
     ]
    },
    {
     "name": "stdout",
     "output_type": "stream",
     "text": [
      "Elements with frequency greater than 3 : [8, 8, 8, 9, 9, 9, 8, 9]\n"
     ]
    }
   ],
   "source": [
    "# 33. Write a Python Program to Extract elements with Frequency greater than K\n",
    "from collections import Counter\n",
    "l= [4, 6, 4, 3, 3, 4, 3, 7, 8, 8, 8, 1, 6, 9,9,9,8,9]\n",
    "k= int(input(\"Enter the frequency: \"))\n",
    "f = Counter(l)\n",
    "m = [e for e in l if f[e] > k]\n",
    "print(\"Elements with a frequency greater than\", k, \":\", m)"
   ]
  },
  {
   "cell_type": "code",
   "execution_count": 87,
   "id": "6c64e83f-36f0-4bda-9210-fbae8c6e49f1",
   "metadata": {},
   "outputs": [
    {
     "name": "stdin",
     "output_type": "stream",
     "text": [
      "Enter the starting range number:  3\n",
      "Enter the ending range number:  5\n"
     ]
    },
    {
     "name": "stdout",
     "output_type": "stream",
     "text": [
      "Does list contain all elements in range: True\n"
     ]
    }
   ],
   "source": [
    "# 34. Write a Python Program to Test if List contains elements in Range\n",
    "l= [1,5,10,5,4,36,4, 5, 6, 7, 3, 9] \n",
    "s= int(input(\"Enter the starting range number: \"))\n",
    "e= int(input(\"Enter the ending range number: \"))\n",
    "r = set(range(s,e+1))\n",
    "ls= set(l)\n",
    "con= r.issubset(ls)\n",
    "print(\"Does list contain all elements in range:\", con)"
   ]
  },
  {
   "cell_type": "code",
   "execution_count": 100,
   "id": "ce134a9d-1041-4268-a44a-60a6407ca7cb",
   "metadata": {},
   "outputs": [
    {
     "name": "stdout",
     "output_type": "stream",
     "text": [
      "[18, 9]\n"
     ]
    }
   ],
   "source": [
    "# 35. Write a Python program to check if the list contains three consecutive common numbers in Python\n",
    "l = [18, 18, 18, 6, 3, 4, 9, 9, 9] \n",
    "r= []\n",
    "for i in (range(len(l) -2)):\n",
    "    if l[i] == l[i+1] == l[i+2]:\n",
    "        r.append(l[i])\n",
    "print(r)"
   ]
  },
  {
   "cell_type": "code",
   "execution_count": 105,
   "id": "9b7a9b02-73fe-4c56-b3e7-3ebd74c64606",
   "metadata": {},
   "outputs": [
    {
     "name": "stdout",
     "output_type": "stream",
     "text": [
      "[30, 30, 400]\n"
     ]
    }
   ],
   "source": [
    "# 36. Write a Python program to find the Strongest Neighbour\n",
    "l = [10,20,30,20,30,20,400,20]\n",
    "sn= []\n",
    "for i in range (1, len(l)-1):\n",
    "    if l[i] >= l[i-1] and l[i] >= l[i+1]:\n",
    "        sn.append(l[i])\n",
    "print(sn)"
   ]
  },
  {
   "cell_type": "code",
   "execution_count": 114,
   "id": "c3877611-71f1-419d-895f-8029b9c26346",
   "metadata": {},
   "outputs": [
    {
     "name": "stdout",
     "output_type": "stream",
     "text": [
      "[(1, 2, 3), (1, 3, 2), (2, 1, 3), (2, 3, 1), (3, 1, 2), (3, 2, 1)]\n"
     ]
    }
   ],
   "source": [
    "# 37. Write a Python Program to print all Possible Combinations from the three Digits\n",
    "import itertools\n",
    "l = [1,2,3]\n",
    "pr = list(itertools.permutations(l))\n",
    "print(pr)"
   ]
  },
  {
   "cell_type": "code",
   "execution_count": 7,
   "id": "5c8066a2-4ec6-44c8-9c66-27c6531b2747",
   "metadata": {},
   "outputs": [
    {
     "name": "stdout",
     "output_type": "stream",
     "text": [
      "[['Tutor Joes', 'Software', 'Solution'], ['Tutor Joes', 'Software', 'Education'], ['Tutor Joes', 'Computer', 'Solution'], ['Tutor Joes', 'Computer', 'Education']]\n"
     ]
    }
   ],
   "source": [
    "# 38. Write a Python program to find all the Combinations in the list with the given condition\n",
    "from itertools import product\n",
    "l= [['Tutor Joes'], ['Software', 'Computer'], ['Solution', 'Education']]\n",
    "c= list(product(*l))\n",
    "m = [list(i) for i in c]\n",
    "print(m)"
   ]
  },
  {
   "cell_type": "code",
   "execution_count": 10,
   "id": "ba9bdc9d-19f1-4334-9282-6b05596f719d",
   "metadata": {},
   "outputs": [
    {
     "name": "stdout",
     "output_type": "stream",
     "text": [
      "[[('A', 1), ('B', 2), ('C', 3)], [('A', 1), ('B', 3), ('C', 2)], [('A', 2), ('B', 1), ('C', 3)], [('A', 2), ('B', 3), ('C', 1)], [('A', 3), ('B', 1), ('C', 2)], [('A', 3), ('B', 2), ('C', 1)], [('A', 1), ('C', 2), ('B', 3)], [('A', 1), ('C', 3), ('B', 2)], [('A', 2), ('C', 1), ('B', 3)], [('A', 2), ('C', 3), ('B', 1)], [('A', 3), ('C', 1), ('B', 2)], [('A', 3), ('C', 2), ('B', 1)], [('B', 1), ('A', 2), ('C', 3)], [('B', 1), ('A', 3), ('C', 2)], [('B', 2), ('A', 1), ('C', 3)], [('B', 2), ('A', 3), ('C', 1)], [('B', 3), ('A', 1), ('C', 2)], [('B', 3), ('A', 2), ('C', 1)], [('B', 1), ('C', 2), ('A', 3)], [('B', 1), ('C', 3), ('A', 2)], [('B', 2), ('C', 1), ('A', 3)], [('B', 2), ('C', 3), ('A', 1)], [('B', 3), ('C', 1), ('A', 2)], [('B', 3), ('C', 2), ('A', 1)], [('C', 1), ('A', 2), ('B', 3)], [('C', 1), ('A', 3), ('B', 2)], [('C', 2), ('A', 1), ('B', 3)], [('C', 2), ('A', 3), ('B', 1)], [('C', 3), ('A', 1), ('B', 2)], [('C', 3), ('A', 2), ('B', 1)], [('C', 1), ('B', 2), ('A', 3)], [('C', 1), ('B', 3), ('A', 2)], [('C', 2), ('B', 1), ('A', 3)], [('C', 2), ('B', 3), ('A', 1)], [('C', 3), ('B', 1), ('A', 2)], [('C', 3), ('B', 2), ('A', 1)]]\n"
     ]
    }
   ],
   "source": [
    "# 39. Write a Python program to get all unique combinations of two Lists\n",
    "from itertools import permutations\n",
    "l1= ['A','B','C']\n",
    "l2 = [1,2,3] \n",
    "perm_list1 = list(permutations(l1))\n",
    "perm_list2 = list(permutations(l2))\n",
    "c = [list(zip(p1, p2)) for p1 in perm_list1 for p2 in perm_list2]\n",
    "print(c)"
   ]
  },
  {
   "cell_type": "code",
   "execution_count": 12,
   "id": "811b36d8-527f-4948-8ad6-de80e2d8ed07",
   "metadata": {},
   "outputs": [
    {
     "name": "stdout",
     "output_type": "stream",
     "text": [
      "[1, 3, 4, 6, 5, 1]\n"
     ]
    },
    {
     "name": "stdin",
     "output_type": "stream",
     "text": [
      "Element to remove: 1\n"
     ]
    },
    {
     "name": "stdout",
     "output_type": "stream",
     "text": [
      "[3, 4, 6, 5]\n"
     ]
    }
   ],
   "source": [
    "# 40. Write a Python program to remove all the occurrences of an element from a list \n",
    "l = [1, 3, 4, 6, 5, 1]\n",
    "print(l)\n",
    "n = int(input(\"Element to remove:\"))\n",
    "m = [x for x in l if x!=n]\n",
    "print(m)"
   ]
  },
  {
   "cell_type": "code",
   "execution_count": 13,
   "id": "55af9c18-88b9-4720-beda-c690d7fe35ed",
   "metadata": {},
   "outputs": [
    {
     "name": "stdout",
     "output_type": "stream",
     "text": [
      "[('A', 'B', 'C', 'D'), ('H', 'D', 'B', 'C')]\n"
     ]
    }
   ],
   "source": [
    "# 41. Write a Python Program to Remove Consecutive K element records\n",
    "input_records = [\n",
    "    ('A', 'B', 'C', 'D'),\n",
    "    ('B', 'C', 'C', 'I'),\n",
    "    ('H', 'D', 'B', 'C'),\n",
    "    ('C', 'C', 'G', 'F')\n",
    "]\n",
    "k = 2\n",
    "filtered_records = []\n",
    "\n",
    "for record in input_records:\n",
    "    has_consecutive = False\n",
    "    count = 1\n",
    "\n",
    "    for i in range(1, len(record)):\n",
    "        if record[i] == record[i - 1]:\n",
    "            count += 1\n",
    "            if count >= k:\n",
    "                has_consecutive = True\n",
    "                break\n",
    "        else:\n",
    "            count = 1\n",
    "    if not has_consecutive:\n",
    "        filtered_records.append(record)\n",
    "\n",
    "print(filtered_records)\n"
   ]
  },
  {
   "cell_type": "code",
   "execution_count": 15,
   "id": "e5c3f7d7-c437-479e-b02b-911ef0caceca",
   "metadata": {},
   "outputs": [
    {
     "name": "stdout",
     "output_type": "stream",
     "text": [
      "['Education', 'Computer', 'Tutor Joes', 'Computer', 'Tutor Joes', 'Education', 'Education', 'Tutor Joes', 'Computer', 'Tutor Joes', 'Computer', 'Education']\n"
     ]
    }
   ],
   "source": [
    "# 42. Write a Python Program to Replace index elements with elements in Other List\n",
    "l = ['Tutor Joes', 'Computer', 'Education']\n",
    "i = [2, 1, 0, 1, 0, 2, 2, 0, 1, 0, 1, 2]\n",
    "x = [l[m] for m  in i]\n",
    "print(x)"
   ]
  },
  {
   "cell_type": "code",
   "execution_count": 19,
   "id": "19470389-a318-48eb-b4a7-5d7e4699ee91",
   "metadata": {},
   "outputs": [
    {
     "name": "stdout",
     "output_type": "stream",
     "text": [
      "[(4, 5, 6, 5, 4), (5, 5, 2)]\n"
     ]
    }
   ],
   "source": [
    "# 43. Write a Python Program to Retain records with N occurrences of K\n",
    "l = [ (4, 5, 6, 5, 4), (4, 5, 3), (5, 5, 2), (3, 4, 9) ] \n",
    "K = 5 \n",
    "N = 2\n",
    "m = [i for i in l if i.count(K) == N]\n",
    "print(m)"
   ]
  },
  {
   "cell_type": "code",
   "execution_count": 22,
   "id": "2f729098-f16e-43e8-b9d5-d70906bd2395",
   "metadata": {},
   "outputs": [
    {
     "name": "stdout",
     "output_type": "stream",
     "text": [
      "['Education', 'Computer', 'joes', 'Tutor']\n"
     ]
    }
   ],
   "source": [
    "# 44. Write a Python Program to Swap elements in String list\n",
    "l= ['Tutor', 'joes', 'Computer', 'Education']\n",
    "m=l[::-1]\n",
    "print(m)"
   ]
  },
  {
   "cell_type": "code",
   "execution_count": 26,
   "id": "f0d5f2e4-ba3a-4861-92cf-b430dbf0eda7",
   "metadata": {},
   "outputs": [
    {
     "name": "stdout",
     "output_type": "stream",
     "text": [
      "['rotuT', 'seoj', 'retupmoC', 'noitacudE']\n"
     ]
    }
   ],
   "source": [
    "# 45. Write a Python program to reverse All Strings in String List\n",
    "l =  ['Tutor', 'joes', 'Computer', 'Education']\n",
    "ln= []\n",
    "for i  in  l:\n",
    "    m = i[::-1]\n",
    "    ln.append(m)\n",
    "print(ln)"
   ]
  },
  {
   "cell_type": "code",
   "execution_count": 32,
   "id": "d5f1ffd7-cbde-43b2-ab91-064b6d8d3621",
   "metadata": {},
   "outputs": [
    {
     "name": "stdout",
     "output_type": "stream",
     "text": [
      "Index of character at Kth position word: 3\n"
     ]
    }
   ],
   "source": [
    "# 46. Write a Python program to find the character position of Kth word from a list of strings\n",
    "# Sample input\n",
    "words_list = ['Tutor', 'joes', 'Computer', 'Education']\n",
    "K = 20\n",
    "concatenated_string = ''.join(words_list)\n",
    "\n",
    "if K > len(concatenated_string) or K <= 0:\n",
    "    print(\"K is out of bounds\")\n",
    "else:\n",
    "    kth_character = concatenated_string[K-1]\n",
    "\n",
    "    cumulative_length = 0\n",
    "    index_of_word = -1\n",
    "    for index, word in enumerate(words_list):\n",
    "        cumulative_length += len(word)\n",
    "        if K <= cumulative_length:\n",
    "            index_of_word = index\n",
    "            break\n",
    "    print(f\"Index of character at Kth position word: {index_of_word}\")\n"
   ]
  },
  {
   "cell_type": "code",
   "execution_count": 34,
   "id": "0f2e2440-71a6-45a2-9325-e8cd28624247",
   "metadata": {},
   "outputs": [
    {
     "name": "stdout",
     "output_type": "stream",
     "text": [
      "Strings count with matching frequency : 3\n"
     ]
    }
   ],
   "source": [
    "# 47. Write a Python Program to Prefix frequency in string List\n",
    "l= ['TjC', 'TjCpp', 'TjPython', 'Java', 'tj']\n",
    "p= 'Tj' \n",
    "count = sum(1 for s in l if s.startswith(p))\n",
    "print(f\"Strings count with matching frequency : {count}\")"
   ]
  },
  {
   "cell_type": "code",
   "execution_count": 41,
   "id": "a45f3ede-f841-46bd-8385-0652b74d448b",
   "metadata": {},
   "outputs": [
    {
     "name": "stdout",
     "output_type": "stream",
     "text": [
      "[['TjC'], ['TjCpp'], ['TjPython', 'Java', 'tj']]\n"
     ]
    }
   ],
   "source": [
    "# 48. Write a Python Program to Split Strings on Prefix Occurrence\n",
    "\n",
    "l = ['TjC', 'TjCpp', 'TjPython', 'Java', 'tj']\n",
    "p = 'Tj'\n",
    "r = []\n",
    "c = []\n",
    "\n",
    "for s in l:\n",
    "    if s.startswith(p):\n",
    "        if c:\n",
    "            r.append(c)\n",
    "        c = [s]\n",
    "    else:\n",
    "        if c:\n",
    "            c.append(s)\n",
    "        else:\n",
    "            r.append([s])\n",
    "if c:\n",
    "    r.append(c)\n",
    "\n",
    "print(result)"
   ]
  },
  {
   "cell_type": "code",
   "execution_count": 46,
   "id": "ee5fc8d9-acab-4f7a-b1b0-043e0340c41b",
   "metadata": {},
   "outputs": [
    {
     "name": "stdout",
     "output_type": "stream",
     "text": [
      "['@', '@', 'T', '@', '@', '@']\n"
     ]
    }
   ],
   "source": [
    "# 49. Write a Python program to Replace all Characters of a List Except the given character\n",
    "l= ['P', 'Y', 'T', 'H', 'O', 'N']\n",
    "m = [i if i == 'T' else '@' for i in l]\n",
    "print(m)"
   ]
  },
  {
   "cell_type": "code",
   "execution_count": 47,
   "id": "4d0aab9c-c315-45e1-afae-c79604c6cb73",
   "metadata": {},
   "outputs": [
    {
     "name": "stdout",
     "output_type": "stream",
     "text": [
      "['Tutor Joes', 'Computer Educations']\n"
     ]
    }
   ],
   "source": [
    "# 50. Write a Python Program to Add Space between Potential Words\n",
    "import re\n",
    "l = ['TutorJoes', 'ComputerEducations']\n",
    "m = [re.sub(r'(?<!^)(?=[A-Z])', ' ', i) for i in l]\n",
    "print(m)"
   ]
  }
 ],
 "metadata": {
  "kernelspec": {
   "display_name": "Python 3 (ipykernel)",
   "language": "python",
   "name": "python3"
  },
  "language_info": {
   "codemirror_mode": {
    "name": "ipython",
    "version": 3
   },
   "file_extension": ".py",
   "mimetype": "text/x-python",
   "name": "python",
   "nbconvert_exporter": "python",
   "pygments_lexer": "ipython3",
   "version": "3.11.5"
  }
 },
 "nbformat": 4,
 "nbformat_minor": 5
}

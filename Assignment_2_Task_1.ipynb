{
 "cells": [
  {
   "cell_type": "code",
   "execution_count": 5,
   "id": "6160663b-7da8-441a-a6fe-2ddabb3ed617",
   "metadata": {},
   "outputs": [
    {
     "name": "stdin",
     "output_type": "stream",
     "text": [
      "Enter your basic salary:  1000\n"
     ]
    },
    {
     "name": "stdout",
     "output_type": "stream",
     "text": [
      "Gross Salary is = ₹ 3600.0 \n"
     ]
    }
   ],
   "source": [
    "# 1. program to calculate his gross salary. \n",
    "basic = int(input(\"Enter your basic salary: \"))\n",
    "DA = basic* 1.4\n",
    "HRA = basic* 1.2\n",
    "Gross = basic + DA + HRA\n",
    "print(f\"Gross Salary is = ₹ {Gross} \")"
   ]
  },
  {
   "cell_type": "code",
   "execution_count": 6,
   "id": "b85c3982-4487-4c80-80aa-dae4af443efd",
   "metadata": {},
   "outputs": [
    {
     "name": "stdin",
     "output_type": "stream",
     "text": [
      "Enter the distance between two cities in 'km':  1\n"
     ]
    },
    {
     "name": "stdout",
     "output_type": "stream",
     "text": [
      "Metre: 1000\n",
      "Feet: 3280.84\n",
      "Inch: 39370.08\n",
      "Centimetres: 100000\n"
     ]
    }
   ],
   "source": [
    "# 2. program to convert and print this distance in meters, feet, inches and centimeters.\n",
    "dist= int(input(\"Enter the distance between two cities in 'km': \"))\n",
    "mt = dist *1000\n",
    "ft = dist * 3280.84\n",
    "inc= ft * 12\n",
    "cm = mt*100\n",
    "print(f\"Metre: {mt}\")\n",
    "print(f\"Feet: {ft}\")\n",
    "print(f\"Inch: {inc}\")\n",
    "print(f\"Centimetres: {cm}\")"
   ]
  },
  {
   "cell_type": "code",
   "execution_count": 20,
   "id": "a6f9e246-2105-4e59-9506-2bd6450c1c01",
   "metadata": {},
   "outputs": [
    {
     "name": "stdin",
     "output_type": "stream",
     "text": [
      "Enter the marks of Subject 1  (out of 100):  89\n",
      "Enter the marks of Subject 2  (out of 100):  78\n",
      "Enter the marks of Subject 3  (out of 100):  77\n",
      "Enter the marks of Subject 4  (out of 100):  56\n",
      "Enter the marks of Subject 5  (out of 100):  4\n"
     ]
    },
    {
     "name": "stdout",
     "output_type": "stream",
     "text": [
      "Aggregate Marks: 304.0 \n",
      "Percentage: 60.8\n"
     ]
    }
   ],
   "source": [
    "# 3. aggregate marks and percentage marks obtained by the student.\n",
    "marks = []\n",
    "for i in range(1,6):\n",
    "    mark = float(input(f\"Enter the marks of Subject {i}  (out of 100): \"))\n",
    "    marks.append(mark)\n",
    "agg_m = sum(marks)\n",
    "per_m = (agg_m *100)/500\n",
    "print(f\"Aggregate Marks: {agg_m} \\nPercentage: {per_m}\")"
   ]
  },
  {
   "cell_type": "code",
   "execution_count": 22,
   "id": "fb50ff73-c83f-47e5-9cc6-b564360ca918",
   "metadata": {},
   "outputs": [
    {
     "name": "stdin",
     "output_type": "stream",
     "text": [
      "Enter the temperature in  Fahrenheit:  100\n"
     ]
    },
    {
     "name": "stdout",
     "output_type": "stream",
     "text": [
      "Centigrade: 37.77777777777778\n"
     ]
    }
   ],
   "source": [
    "# 4. convert this temperature into Centigrade degrees.\n",
    "tem_f =  float(input(\"Enter the temperature in  Fahrenheit: \"))\n",
    "tem_c = (tem_f -32) *5/9\n",
    "print (f\"Centigrade: {tem_c}\")"
   ]
  },
  {
   "cell_type": "code",
   "execution_count": 25,
   "id": "272946c3-6f4e-436b-9762-1cf221a5935d",
   "metadata": {},
   "outputs": [
    {
     "name": "stdin",
     "output_type": "stream",
     "text": [
      "Enter the length of the rectangle:  25\n",
      "Enter the breadth of the rectangle:  10\n",
      "Enter the radius of the circle:  5\n"
     ]
    },
    {
     "name": "stdout",
     "output_type": "stream",
     "text": [
      " Perimeter of a Rectangle: 70.0\n",
      " Area of a Rectangle: 250.0\n",
      " Circumference of a Circle: 31.41592653589793\n",
      " Area of a Circle: 78.53981633974483\n"
     ]
    }
   ],
   "source": [
    "# 5. program to calculate the area & perimeter of the rectangle, and the area & circumference of the circle.\n",
    "from math import pi\n",
    "l = float(input(\"Enter the length of the rectangle: \"))\n",
    "b = float(input(\"Enter the breadth of the rectangle: \"))\n",
    "r = float(input(\"Enter the radius of the circle: \"))\n",
    "a_r = l * b\n",
    "p_r = 2*(l+b)\n",
    "a_c =  pi * r * r\n",
    "c_c = 2 * pi * r\n",
    "print(f\" Perimeter of a Rectangle: {p_r}\")\n",
    "print(f\" Area of a Rectangle: {a_r}\")\n",
    "print(f\" Circumference of a Circle: {c_c}\")\n",
    "print(f\" Area of a Circle: {a_c}\")"
   ]
  },
  {
   "cell_type": "code",
   "execution_count": 26,
   "id": "3cc2ad17-4499-4a23-bcc2-c93d13bb0af2",
   "metadata": {},
   "outputs": [
    {
     "name": "stdin",
     "output_type": "stream",
     "text": [
      "Enter the number C:  25\n",
      "Enter the number D:  1\n"
     ]
    },
    {
     "name": "stdout",
     "output_type": "stream",
     "text": [
      "C: 1\n",
      "D: 25\n"
     ]
    }
   ],
   "source": [
    "# 6. program to interchange the contents of C and D.\n",
    "c = int(input(\"Enter the number C: \"))\n",
    "d = int(input(\"Enter the number D: \"))\n",
    "a = c\n",
    "c = d\n",
    "d = a\n",
    "print (f\"C: {c}\")\n",
    "print (f\"D: {d}\")"
   ]
  },
  {
   "cell_type": "code",
   "execution_count": 27,
   "id": "325f2de2-da77-41d7-8d4f-120681c4bf0f",
   "metadata": {},
   "outputs": [
    {
     "name": "stdin",
     "output_type": "stream",
     "text": [
      "Enter the 5 difit number:  12345\n"
     ]
    },
    {
     "name": "stdout",
     "output_type": "stream",
     "text": [
      "15\n"
     ]
    }
   ],
   "source": [
    "# 7.  program to calculate the sum of its digits.\n",
    "number = int(input(\"Enter the 5 digit number: \"))\n",
    "digit1 = number // 10000\n",
    "digit2 = (number // 1000) % 10\n",
    "digit3 = (number // 100) % 10\n",
    "digit4 = (number // 10) % 10\n",
    "digit5 = number % 10\n",
    "sum = digit1 + digit2 + digit3 + digit4 + digit5\n",
    "print(sum)\n",
    "    "
   ]
  },
  {
   "cell_type": "code",
   "execution_count": 29,
   "id": "0a3fa96c-f82b-4b06-9c30-546b95f60004",
   "metadata": {},
   "outputs": [
    {
     "name": "stdin",
     "output_type": "stream",
     "text": [
      "Enter the 5 difit number:  12345\n"
     ]
    },
    {
     "name": "stdout",
     "output_type": "stream",
     "text": [
      "54321\n"
     ]
    }
   ],
   "source": [
    "# 8. write a program to reverse the number. \n",
    "number = input(\"Enter the 5 digit number: \")\n",
    "n_num = number[::-1]\n",
    "print(n_num)"
   ]
  },
  {
   "cell_type": "code",
   "execution_count": 36,
   "id": "346a4e2f-f6d4-4e65-a537-211e07136b75",
   "metadata": {},
   "outputs": [
    {
     "name": "stdin",
     "output_type": "stream",
     "text": [
      "Enter the 4 digit number:  1234\n"
     ]
    },
    {
     "name": "stdout",
     "output_type": "stream",
     "text": [
      "5\n"
     ]
    }
   ],
   "source": [
    "# 9.  If a four-digit number is input through the keyboard, write a program to obtain the sum of the first and last digit of this number.\n",
    "number = input(\"Enter the 4 digit number: \")\n",
    "n1= int(number[:1])\n",
    "n2= int(number[3:])\n",
    "sum = n1 +n2\n",
    "print(sum)       "
   ]
  },
  {
   "cell_type": "code",
   "execution_count": 51,
   "id": "52707faa-7ba5-4d23-8cd3-6894f6f2d485",
   "metadata": {},
   "outputs": [
    {
     "name": "stdout",
     "output_type": "stream",
     "text": [
      "Illiterate Men: 13600\n",
      "Illiterate Women: 28000\n"
     ]
    }
   ],
   "source": [
    "# 10. illiterate men and women if the population of the town is 80,000.\n",
    "p = 80000\n",
    "tl= 48\n",
    "men = int((p * 52)/100)\n",
    "ml= int(p*0.35)\n",
    "ilm= men - ml\n",
    "w = p - men\n",
    "wl = int(p*0.13)\n",
    "ilw = w -wl\n",
    "print(f\"Illiterate Men: {ilm}\")\n",
    "print(f\"Illiterate Women: {ilw}\")"
   ]
  },
  {
   "cell_type": "code",
   "execution_count": 64,
   "id": "188bcc34-7d09-4635-8fab-bcf9f55f93a2",
   "metadata": {},
   "outputs": [
    {
     "name": "stdin",
     "output_type": "stream",
     "text": [
      "Enter the amount:  480\n"
     ]
    },
    {
     "name": "stdout",
     "output_type": "stream",
     "text": [
      "Number of 100-rupee notes: 4\n",
      "Number of 50-rupee notes: 1\n",
      "Number of 10-rupee notes: 3\n"
     ]
    }
   ],
   "source": [
    "# 11. find the total number of currency notes of each denomination the cashier will have to give to the withdrawer.\n",
    "amt = int(input(\"Enter the amount: \"))\n",
    "c100= amt//100\n",
    "rm= amt%100\n",
    "c50= rm//50\n",
    "rm = rm%50\n",
    "c10= rm //10\n",
    "print(f\"Number of 100-rupee notes: {c100}\")\n",
    "print(f\"Number of 50-rupee notes: {c50}\")\n",
    "print(f\"Number of 10-rupee notes: {c10}\")"
   ]
  },
  {
   "cell_type": "code",
   "execution_count": 66,
   "id": "37c80d0d-1986-4b86-8ca2-26c33875ce08",
   "metadata": {},
   "outputs": [
    {
     "name": "stdin",
     "output_type": "stream",
     "text": [
      "Enter the total selling price of 15 items:  400\n",
      "Enter the profit earned after selling 15 items:  100\n"
     ]
    },
    {
     "name": "stdout",
     "output_type": "stream",
     "text": [
      "Cost Price of one item is ₹ 20\n"
     ]
    }
   ],
   "source": [
    "# 12. program to find the cost price of one item.\n",
    "sp= int(input(\"Enter the total selling price of 15 items: \"))\n",
    "p = int(input(\"Enter the profit earned after selling 15 items: \"))\n",
    "cp = int((sp-p)/15)\n",
    "print(f\"Cost Price of one item is ₹ {cp}\")"
   ]
  },
  {
   "cell_type": "code",
   "execution_count": 80,
   "id": "9be48d35-f9e2-4651-b042-ef08e910cbfa",
   "metadata": {},
   "outputs": [
    {
     "name": "stdin",
     "output_type": "stream",
     "text": [
      "Enter the number:  129\n"
     ]
    },
    {
     "name": "stdout",
     "output_type": "stream",
     "text": [
      "230\n"
     ]
    }
   ],
   "source": [
    "# 13. program to print a new number by adding one to each of its digits.\n",
    "number = input(\"Enter the number: \")\n",
    "l= list(number)\n",
    "nl=[]\n",
    "for i in l:\n",
    "    d = int(i) + 1\n",
    "    if d>=10:\n",
    "        d = d%10\n",
    "    nl.append(str(d))\n",
    "n_num= ''.join(nl)\n",
    "print(n_num)"
   ]
  }
 ],
 "metadata": {
  "kernelspec": {
   "display_name": "Python 3 (ipykernel)",
   "language": "python",
   "name": "python3"
  },
  "language_info": {
   "codemirror_mode": {
    "name": "ipython",
    "version": 3
   },
   "file_extension": ".py",
   "mimetype": "text/x-python",
   "name": "python",
   "nbconvert_exporter": "python",
   "pygments_lexer": "ipython3",
   "version": "3.11.5"
  }
 },
 "nbformat": 4,
 "nbformat_minor": 5
}
